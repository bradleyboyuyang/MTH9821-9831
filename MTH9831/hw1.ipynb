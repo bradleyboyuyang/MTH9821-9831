{
 "cells": [
  {
   "cell_type": "markdown",
   "metadata": {},
   "source": [
    "## MTH9831 Assignment 1\n",
    "\n",
    "**Author: Boyu Yang, Julius Gruber, Yicheng Sun, Ziyuan Li**"
   ]
  },
  {
   "cell_type": "markdown",
   "metadata": {},
   "source": [
    "### Question 1"
   ]
  },
  {
   "cell_type": "markdown",
   "metadata": {},
   "source": [
    "Since the two coordinates are independent, the square sum follows chi-square.\n",
    "\n",
    "$$\\begin{aligned} B_1 &\\sim N(0,t) \\\\ B_2 &\\sim N(0,t) \\\\ X = \\sqrt{B_1^2 + B_2^2} &= \\sqrt{t(Z_1^2 + Z_2^2)} =  \\sqrt{tY} \\\\ Y &\\sim \\chi^2(2) \\end{aligned}$$\n",
    "\n",
    "\n",
    "$$\\begin{aligned} P[Y < y] &= 1 - e^{-y/2} \\\\ P[X < x] &= P[\\sqrt{tY} < x] = P[Y < x^2/t] = 1 - e^{-x^2/2t} \\end{aligned}$$\n",
    "Hence the pdf of X is given by\n",
    "$$f_X(x) = \\frac{x}{t} e^{-x^2/2t}~(x>0)$$\n",
    "X follows a Weibull distribution with parameters $\\lambda = \\sqrt{2t}$ and $k = 2$.\n"
   ]
  },
  {
   "cell_type": "markdown",
   "metadata": {},
   "source": [
    "### Question 2"
   ]
  },
  {
   "cell_type": "markdown",
   "metadata": {},
   "source": [
    "#### (a)\n",
    "Yes, since\n",
    "1. $B(0) = 0.$\n",
    "2. $B(t_0) − B(t_1),...,  B(t_{m-1}) − B(t_m)$ are independent\n",
    "3. $ B(s + t) − B(t)$ is normal and the variance is s\n"
   ]
  },
  {
   "cell_type": "markdown",
   "metadata": {},
   "source": [
    "#### (b)\n",
    "Yes, since\n",
    "\n",
    "1. $B(0) = 0.$\n",
    "\n",
    "2. $cB(t_1^2/c^2) − cB(t_0^2/c^2),...,  cB(t_m^2/c^2) − cB(t_{m−1}^2/c^2)$ are independent\n",
    "\n",
    "3. $ B({(s + t)}^2/c^2) − B({t}^2/c^2)$ is normal and the variance is linear to s"
   ]
  },
  {
   "cell_type": "markdown",
   "metadata": {},
   "source": [
    "#### (c)\n",
    "No, since\n",
    "\n",
    "$ B(t) = \\sqrt{t}B(1)$,\n",
    "    the increment is  $$\\begin{aligned}   (\\sqrt{t+s}B(1)) - (\\sqrt{t}B(1)) = (\\sqrt{t+s} - \\sqrt{t}) B(1) \\end{aligned}$$\n",
    "\n",
    "\n",
    "which variance is not linear to time increment s."
   ]
  },
  {
   "cell_type": "markdown",
   "metadata": {},
   "source": [
    "#### (d)\n",
    "Yes, since\n",
    "\n",
    "$ X(t) = (B(2t) − B(t)) $\n",
    "\n",
    "$X(t + s) = (B(2t + 2s) − B(t + s)) $\n",
    "\n",
    "$X(t + s) - X(t) = B(2t + 2s) − B(t + s)  -  (B(2t) − B(t))  = B(2t + 2s)  - B(2t) − (B(t + s) - B(t))$\n",
    "\n",
    "\n",
    "1. If $2t > t + s$:\n",
    "\n",
    "      $Y_1 = B(2t + 2s)  - B(2t)$ and $Y_2 = (B(t + s) - B(t)) $ is independent normal distribution\n",
    "\n",
    "2. If $2t \\leq t + s$:\n",
    " \n",
    "     $Y_1 =  B(2t + 2s) − B(t + s)$  and  $Y_2 =  (B(2t) − B(t))$ is independent normal distribution\n",
    "\n",
    "In both scenarios, we have independent and normal increments."
   ]
  },
  {
   "cell_type": "markdown",
   "metadata": {},
   "source": [
    "\n",
    "#### (e)\n",
    "Yes, since\n",
    "1. $B(0) = B(T) - B(T - 0) = 0.$\n",
    "\n",
    "2. $B(T) - B(T - t_1)  − (B(T) - B(T - t_0)) ,...,  B(T) - B(T - t_m)  − (B(T) - B(T - t_{m-1})) $, i.e.\n",
    "\n",
    "   $B(T - t_0) - B(T - t_1) ,..., B(T - t_{m-1}) - B(T - t_m) $ are independent\n",
    "\n",
    "3. $ B(T) - B(T - t - s)  − (B(T) - B(T - t)) =  B(T - t) - B(T - t -s) $ is normal and the variance is s"
   ]
  },
  {
   "cell_type": "markdown",
   "metadata": {},
   "source": [
    "### Question 3"
   ]
  },
  {
   "cell_type": "markdown",
   "metadata": {},
   "source": [
    "According to reflection principle, we have\n",
    "$$P(B^*(t) \\geq a, B(t) \\leq x) =  P(B^*(t)\\geq a, B(t)\\geq 2a-x)$$\n",
    "Note that $B(t)\\geq2a-x \\Rightarrow B^*(t)\\geq B(t)\\geq a $ since $x\\leq a$, then we have:\n",
    "$$P(B^*(t) \\geq a, B(t) \\leq x) = \\int_{2a-x}^{\\infty} \\frac{1}{\\sqrt{2\\pi t}}e^{-\\frac{s^2}{2t}} ~ ds\n",
    "$$\n"
   ]
  },
  {
   "cell_type": "markdown",
   "metadata": {},
   "source": [
    "### Question 4"
   ]
  },
  {
   "cell_type": "markdown",
   "metadata": {},
   "source": [
    "The Gran-Schimidt process is given by\n",
    "$$\n",
    "\\begin{align*}\n",
    "Y_1 &= X_1 \\\\\n",
    "Y_2 &= X_2 - \\frac{\\mathrm{E}[X_2Y_1]}{\\sigma(Y_1)}Y_1 \\\\\n",
    "Y_3 &= X_3 - \\frac{\\mathrm{E}[X_3Y_1]}{\\sigma(Y_1)}Y_1 - \\frac{\\mathrm{E}[X_3Y_2]}{\\sigma(Y_2)}Y_2 \\\\\n",
    "\\vdots \\\\\n",
    "Y_n &= X_n - \\sum_{i=1}^{n-1}\\frac{\\mathrm{E}[X_nY_i]}{\\sigma(Y_i)}Y_i\n",
    "\\end{align*}\n",
    "$$\n",
    "\n",
    "Therefore we can solve\n",
    "\n",
    "$$\n",
    "\\begin{align*}\n",
    "X_1 &= Y_1 \\\\\n",
    "X_2 &= Y_2 + \\frac{\\mathrm{E}[X_2Y_1]}{\\sigma(Y_1)}Y_1 \\\\\n",
    "X_3 &= Y_3 + \\frac{\\mathrm{E}[X_3Y_1]}{\\sigma(Y_1)}Y_1 + \\frac{\\mathrm{E}[X_3Y_2]}{\\sigma(Y_2)}Y_2 \\\\\n",
    "\\vdots \\\\\n",
    "X_n &= Y_n + \\sum_{i=1}^{n-1}\\frac{\\mathrm{E}[X_nY_i]}{\\sigma(Y_i)}Y_i\n",
    "\\end{align*}\n",
    "$$\n",
    "\n",
    "It is easily seen that the conditional distribution of $((X_{k+1}, X_{k+2}, \\dots, X_{k+n})|(X_1, X_2,\\dots,X_k)=(x_1,x_2,\\dots,x_k))$ is \n",
    "\n",
    "$$\n",
    "\\begin{align*}\n",
    "f(x_{k+1},x_{k+2},\\dots,x_{k+n}|x_1,x_2,\\dots,x_k) &= f(X_{k+1}|x_1,x_2,\\dots,x_k)\\times f(X_{k+2}|x_1,x_2,\\dots,x_k,X_{k+1})\\times \\dots \\times f(X_{k+n}|x_1,x_2,\\dots,x_k,X_{k+1},X_{k+2},\\dots,X_{k+n-1})\n",
    "\\end{align*}\n",
    "$$\n",
    "\n",
    "which is a the product of the distribution of linear combinations of $x_i$. Therefore, the conditional distribution is multivariate normal and the dependence on $x_1,x_2,\\dots,x_k$ is linear.\n"
   ]
  },
  {
   "cell_type": "markdown",
   "metadata": {},
   "source": [
    "### Question 5"
   ]
  },
  {
   "cell_type": "markdown",
   "metadata": {},
   "source": [
    "We want to find the distribution of \n",
    "$$\n",
    "(X_{2} | X_{1} = X)\n",
    "$$\n",
    "\n",
    "We know that we can decompose:\n",
    "\n",
    "$$\n",
    "X_{2} - \\mu_{2} = \\Lambda (X_{1} - \\mu_{1}) + W\n",
    "$$\n",
    "We now calculate W: \n",
    "First we multiply by \n",
    "$$\n",
    "X_{1} - \\mu_{1}\n",
    "$$\n",
    "from the right to get.\n",
    "\n",
    "$$\n",
    "(X_{2} - \\mu_{2} ) (X_{1} - \\mu_{1})^{T} = (\\Lambda (X_{1} - \\mu_{1}) + W)(X_{1} - \\mu_{1})^{T}\n",
    "$$\n",
    "Now we apply the expected value and get:\n",
    "$$\n",
    "C_{21} = \\Lambda C_{11}\n",
    "$$\n",
    "as the expected Value of W is 0 and it is independent of X1 by construction.\n",
    "\n",
    "Hence we derive:\n",
    "$$\n",
    "\\Lambda = C_{21} C_{11}^{-1}\n",
    "$$\n",
    "\n",
    "We now want to find W.\n",
    "We multiply by\n",
    "$$\n",
    "X_{2} - \\mu_{2}\n",
    "$$\n",
    "on the right and \n",
    "$$\n",
    "(\\Lambda (X_{1} - \\mu_{1}) + W)\n",
    "$$\n",
    "on the left to get \n",
    "$$\n",
    "(X_{2} - \\mu_{2} ) (X_{2} - \\mu_{2})^{T} = (\\Lambda (X_{1} - \\mu_{1}) + W) (\\Lambda (X_{1} - \\mu_{1}) + W)^{T}\n",
    "$$\n",
    "$$\n",
    "C_{22} = C_{21} C_{11}^{-1} (X_{1}-\\mu_{1})(X_{1}-\\mu_{1})^{T} (C_{21}C_{11}^{-1})^{T} + WW^{T}\n",
    "$$\n",
    "$$\n",
    "C_{22} = C_{21} C_{11}^{-1}C_{12} + Var(W)\n",
    "$$\n",
    "Hence the distribution of \n",
    "$$ \n",
    "(X_{2}|X_{1} = X) = \n",
    "$$\n",
    "$$\n",
    "(\\Lambda(X_{1} - \\mu_{1}) + \\mu_{2} + W | X_{1} =X)\n",
    "$$\n",
    "$$\n",
    "\\Lambda (X - \\mu_{1}) + \\mu_{2} + W\n",
    "$$\n",
    "$$ \n",
    " C_{21} C_{11}^{-1} (X - \\mu_{1}) + \\mu_{2} + W\n",
    "$$\n",
    "where W is distributed like:\n",
    "$$\n",
    "\\mathcal{N}( 0, C_{22} - C_{21}C_{11}^{-1}C_{12})\n",
    "$$\n",
    "\n",
    "\n"
   ]
  },
  {
   "cell_type": "markdown",
   "metadata": {},
   "source": [
    "### Question 6"
   ]
  },
  {
   "cell_type": "markdown",
   "metadata": {},
   "source": [
    "#### (a) \n",
    "\n",
    "Using Chelesky decomposition, we can decompose the covariance matrix $C$ into $C = A_kA_k^T$, where $A_k$ is a lower triangular matrix. The solution is given by\n",
    "$$\n",
    "A_kA_k^T = C_k \\Rightarrow A_k= \\begin{bmatrix}\n",
    "1 & 0 & 0 \\\\\n",
    "1 & 1 & 0 \\\\\n",
    "1 & 2 & \\sqrt{k-5} \\\\\n",
    "\\end{bmatrix}\n",
    "$$\n",
    "\n",
    "The matrix determinant is $2k-9-(k-3)+1=k-5$, hence when $k=5$ the covariance matrix is degenerate, vector $X$ does not have a density function."
   ]
  },
  {
   "cell_type": "markdown",
   "metadata": {},
   "source": [
    "#### (b) \n",
    "When $k=5$, we have $$X=A_kY=\\begin{bmatrix}\n",
    "1 & 0 & 0 \\\\\n",
    "1 & 1 & 0 \\\\\n",
    "1 & 2 & 0 \\\\\n",
    "\\end{bmatrix} \\begin{bmatrix} Y1\\\\Y2\\\\Y3 \\end{bmatrix}$$\n",
    "\n",
    "$$\n",
    "\\begin{equation*}\n",
    "\\Rightarrow\n",
    "  \\begin{cases}\n",
    "    X_1 = Y_1 \\\\\n",
    "    X_2 = Y_1 + Y_2 \\\\\n",
    "    X_3 = Y_1 + 2Y_2\n",
    "  \\end{cases}\n",
    "\\end{equation*}\n",
    "\\Rightarrow\n",
    "\\mathrm{E}[X_1^2X_2X_3] = \\mathrm{E}[Y_1^2(Y_1+Y_2)(Y_1+2Y_2)] = \\mathrm{E}[Y_1^4+3Y_1^3Y_2+2Y_1^2Y_2^2] = 3+0+2=5\n",
    "$$"
   ]
  },
  {
   "cell_type": "markdown",
   "metadata": {},
   "source": [
    "#### (c)\n",
    "\n",
    "For general k, $$\\mathrm{E}[e^{X_1+X_2+X_3}|X_1] = \\mathrm{E}[e^{3Y_1+3Y_2+\\sqrt{k-5}Y_3}|Y_1] = e^{3Y_1} \\times e^{\\frac{9}{2}} \\times e^{\\frac{k-5}{2}} = e^{3X_1+2+\\frac{1}{2}k} $$"
   ]
  },
  {
   "cell_type": "markdown",
   "metadata": {},
   "source": [
    "### Question 7"
   ]
  },
  {
   "cell_type": "markdown",
   "metadata": {},
   "source": [
    "#### (a)"
   ]
  },
  {
   "cell_type": "code",
   "execution_count": 25,
   "metadata": {},
   "outputs": [
    {
     "data": {
      "image/png": "[encoded data removed]",
      "text/plain": [
       "<Figure size 720x432 with 1 Axes>"
      ]
     },
     "metadata": {
      "needs_background": "light"
     },
     "output_type": "display_data"
    }
   ],
   "source": [
    "import numpy as np\n",
    "import matplotlib.pyplot as plt\n",
    "\n",
    "def brownian_bridge(endpoint = 1.0, m = 10) -> None:\n",
    "    \"\"\"\n",
    "    endpoint: the endpoint at (T, endpoint)\n",
    "    m: number of steps\n",
    "    \"\"\"\n",
    "    # set parameters\n",
    "    np.random.seed(0)\n",
    "    h = 2 ** m # Number of time steps\n",
    "    dt = 0.01  # Time step size\n",
    "    mu = 0  # Mean of the Brownian motion\n",
    "    sigma = 1  # Standard deviation of the Brownian motion\n",
    "    z_list = np.random.normal(mu, sigma, h + 1)\n",
    "    z_list[0] = 0\n",
    "    j_max = 1\n",
    "    omega_list = dt ** 0.5 * z_list\n",
    "    omega_list[-1] = endpoint\n",
    "    # print(omega_list)\n",
    "    t0, omega0 = 0, 0\n",
    "    for k in range(1, m + 1):\n",
    "        i_min = h // 2\n",
    "        i = i_min\n",
    "        l, r = 0, h\n",
    "        for j in range(1, j_max + 1):\n",
    "            a = (dt * (r - i) * omega_list[l] + dt * (i - l) * omega_list[r]) / (dt * (r - l))\n",
    "            b = (dt * (i - l) * dt * (r - i) / (dt * (r - l))) ** 0.5\n",
    "            omega_list[i] = a + b * z_list[i]\n",
    "            i, l, r = i + h, l + h, r + h\n",
    "        j_max = 2 * j_max\n",
    "        h = i_min\n",
    "\n",
    "    t = np.linspace(0, (2 ** m+1) * dt, 2 ** m + 1)\n",
    "    plt.figure(figsize=(10, 6))\n",
    "    plt.plot(t, omega_list)\n",
    "    plt.title(\"Brownian Bridge\")\n",
    "    plt.xlabel(\"Time\")\n",
    "    plt.ylabel(\"Value\")\n",
    "    plt.grid(True)\n",
    "    plt.show()\n",
    "\n",
    "brownian_bridge(1, 10)"
   ]
  },
  {
   "cell_type": "markdown",
   "metadata": {},
   "source": [
    "#### (b)"
   ]
  },
  {
   "cell_type": "code",
   "execution_count": 29,
   "metadata": {},
   "outputs": [
    {
     "data": {
      "image/png": "[encoded data removed]",
      "text/plain": [
       "<Figure size 720x432 with 1 Axes>"
      ]
     },
     "metadata": {
      "needs_background": "light"
     },
     "output_type": "display_data"
    }
   ],
   "source": [
    "import numpy as np\n",
    "import matplotlib.pyplot as plt\n",
    "\n",
    "def brownian_motion(num_steps = 1000) -> None:\n",
    "    # Set the parameters\n",
    "    dt = 0.01  # Time step size\n",
    "    mu = 0  # Mean of the Brownian motion\n",
    "    sigma = 1  # Standard deviation of the Brownian motion\n",
    "\n",
    "    # Generate standard Brownian motion\n",
    "    np.random.seed(0)\n",
    "    t = np.linspace(0, num_steps * dt, num_steps)\n",
    "    dW = np.sqrt(dt) * np.random.normal(mu, sigma, num_steps)\n",
    "    W = np.cumsum(dW)\n",
    "\n",
    "    # Plot the standard Brownian motion\n",
    "    plt.figure(figsize=(10, 6))\n",
    "    plt.plot(t, W)\n",
    "    plt.title(\"Standard Brownian Motion\")\n",
    "    plt.xlabel(\"Time\")\n",
    "    plt.ylabel(\"Value\")\n",
    "    plt.grid(True)\n",
    "    plt.show()\n",
    "\n",
    "brownian_motion(1000)"
   ]
  }
 ],
 "metadata": {
  "kernelspec": {
   "display_name": "base",
   "language": "python",
   "name": "python3"
  },
  "language_info": {
   "codemirror_mode": {
    "name": "ipython",
    "version": 3
   },
   "file_extension": ".py",
   "mimetype": "text/x-python",
   "name": "python",
   "nbconvert_exporter": "python",
   "pygments_lexer": "ipython3",
   "version": "3.9.7"
  },
  "orig_nbformat": 4,
  "vscode": {
   "interpreter": {
    "hash": "40d3a090f54c6569ab1632332b64b2c03c39dcf918b08424e98f38b5ae0af88f"
   }
  }
 },
 "nbformat": 4,
 "nbformat_minor": 2
}
