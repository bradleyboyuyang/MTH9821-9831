{
 "cells": [
  {
   "cell_type": "markdown",
   "metadata": {},
   "source": [
    "### Question 1"
   ]
  },
  {
   "cell_type": "markdown",
   "metadata": {},
   "source": [
    "#### (a)"
   ]
  },
  {
   "cell_type": "markdown",
   "metadata": {},
   "source": [
    "Since we have $dW(t) = \\sum_{i=1}^n \\cfrac{B_i(t)}{\\sqrt{S(t)}}dB_i(t)$, using the fact that covariations of different components of Brownian motion are zero, we have\n",
    "$$\n",
    "[W]_t = \\sum_{i=1}^n (\\cfrac{B_i(t)}{\\sqrt{S(t)}})^2 [B_i]_t = \\sum_{i=1}^n \\cfrac{B_i(t)^2}{S(t)} t = \\cfrac{1}{S(t)} \\sum_{i=1}^n B_i(t)^2 t = t\n",
    "$$\n",
    "Since $W(0) = 0$ and $W(t)$ is a continuous local martingale with quadratic variation equal to t, we have $W(t)$ is a standard brownian motion by Levy's characterization theorem."
   ]
  },
  {
   "cell_type": "markdown",
   "metadata": {},
   "source": [
    "#### (b)"
   ]
  },
  {
   "cell_type": "markdown",
   "metadata": {},
   "source": [
    "Apply Ito's formula to $f(t,x)=x^2$, where x is the n-dimensional Brownian motion, we have\n",
    "$$\n",
    "dS(t) = 2\\sum_{i=1}^n B_i(t)dB_i(t) + \\sum_{i=1}^n dt = 2\\sum_{i=1}^n B_i(t)dB_i(t) + n dt\n",
    "$$\n",
    "Substitute the expression for $dW(t)$ we have \n",
    "$$\n",
    "dS(t) = 2\\sum_{i=1}^n B_i(t)dB_i(t) + n dt = 2\\sqrt{S(t)}dW(t) + n dt\n",
    "$$\n",
    "\n",
    "In CIR model $dr(t) = (\\alpha-\\beta r(t))dt+\\sigma \\sqrt{r(t)} dW(t)$, setting $\\alpha=n,\\beta=0, \\sigma=\\sqrt{2}$ we can recover the squared Bessel process."
   ]
  },
  {
   "cell_type": "markdown",
   "metadata": {},
   "source": [
    "#### (c)"
   ]
  },
  {
   "cell_type": "markdown",
   "metadata": {},
   "source": [
    "Apply Ito's formula to $g(t,x)=\\sqrt{x}$, where x is the sqaure Bessel process $S(t)$, we have\n",
    "\\begin{align*}\n",
    "d\\sqrt{S(t)} &= \\cfrac{1}{2\\sqrt{S(t)}}dS(t) - \\cfrac{1}{8S(t)^{3/2}}d[S]_t = \\cfrac{1}{2\\sqrt{S(t)}}dS(t) - \\cfrac{1}{2S(t)^{1/2}}dt \\\\\n",
    "&= \\cfrac{1}{2\\sqrt{S(t)}}(2\\sqrt{S(t)}dW(t) + ndt) - \\cfrac{1}{2S(t)^{1/2}}dt \\\\\n",
    "&= dW(t) + \\cfrac{n-1}{2\\sqrt{S(t)}}dt\n",
    "\\end{align*}\n",
    "Hence we finish the proof."
   ]
  }
 ],
 "metadata": {
  "language_info": {
   "name": "python"
  },
  "orig_nbformat": 4
 },
 "nbformat": 4,
 "nbformat_minor": 2
}
