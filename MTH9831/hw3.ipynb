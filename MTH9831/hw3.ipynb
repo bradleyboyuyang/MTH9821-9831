{
 "cells": [
  {
   "cell_type": "markdown",
   "metadata": {},
   "source": [
    "### Question 1\n"
   ]
  },
  {
   "cell_type": "markdown",
   "metadata": {},
   "source": [
    "Denote $||\\Pi||=\\max_{i\\in 1,2,\\dots,n} (t_i-t_{i-1}) $, then the cross variation of $B(t)$ and $t$ is given by\n",
    "$$[B(t), t]_T = \\lim_{||\\Pi||\\to 0} \\sum_{i=1}^n (B(t_i)-B(t_{i-1}))(t_i-t_{i-1}) $$\n",
    "Understanding the limit in $L^2$ sense, it is equivalent to show that\n",
    "$$\\lim_{n\\to \\infty} \\mathbb{E} [\\sum_{i=1}^n (B(t_i)-B(t_{i-1}))(t_i-t_{i-1}) - 0 ]^2 = 0  $$\n",
    "In fact,\n",
    "\n",
    "\\begin{align*}\n",
    "\\text{LHS} & \\leq [\\sum_{i=1}^n \\max_{i}|B(t_i)-B(t_{i-1})| \\times (t_i-t_{i-1}) ]^2 \\\\\n",
    " &= \\max_{i}|B(t_i)-B(t_{i-1})|^2 \\times (\\sum_{i=1}^n (t_i-t_{i-1}))^2 \\\\\n",
    "&= T ^ 2 \\times \\max_{i}|B(t_i)-B(t_{i-1})|^2 \\to T^2 \\times 0 = 0\\\\\n",
    "\\end{align*}\n",
    "\n",
    "Since brownian motion is continuous on $[0,T]$, we have $\\max_{i}|B(t_i)-B(t_{i-1})| \\to 0$ as $n\\to \\infty$. Therefore, $\\text{LHS} \\to 0$ as $n\\to \\infty$. This finishes our proof. "
   ]
  },
  {
   "cell_type": "markdown",
   "metadata": {},
   "source": []
  },
  {
   "cell_type": "markdown",
   "metadata": {},
   "source": [
    "### Question 3"
   ]
  },
  {
   "cell_type": "markdown",
   "metadata": {},
   "source": [
    "#### (i)"
   ]
  },
  {
   "cell_type": "markdown",
   "metadata": {},
   "source": [
    "The result given by Example 2.1 is $$\\int_0^t B(s)dB(s) = \\lim_{||\\Pi||\\to 0}\\sum_{i=1}^n (B(t_i)-B(t_{i-1})) = \\frac{1}{2}(B^2(t)-t) $$\n",
    "\n",
    "Therefore, we have\n",
    "\n",
    "$$\\mathbb{E}[(\\int_0^t B(s)dB(s))^2] = \\mathbb{E}[\\frac{1}{4}(B^2(t)-t)^2] = \\frac{1}{4}(\\mathbb{E}[B^4(t)]-2t\\mathbb{E}[B^2(t)]+t^2) = \\frac{1}{4}(3t^2-2t^2+t^2) = \\frac{1}{2}t^2 $$\n",
    "\n",
    "Meanwhile, \n",
    "\n",
    "$$\\int_0^t \\mathbb{E}[B(s)]^2 ds = \\int_0^t s ds = \\frac{1}{2} t^2$$\n",
    "\n",
    "\n",
    "Therefore the Ito isometry is verified."
   ]
  },
  {
   "cell_type": "markdown",
   "metadata": {},
   "source": [
    "#### (ii)"
   ]
  },
  {
   "cell_type": "markdown",
   "metadata": {},
   "source": [
    "We first deduct the n-th moment of $X$ for $X\\sim \\mathcal{N}(0,\\sigma^2) $,\n",
    "\n",
    "\\begin{align*}\n",
    "\\mathbb{E}[X^k] = \\int_{-\\infty}^{+\\infty}\\cfrac{x^k}{\\sqrt{2\\pi\\sigma^2}}e^{-\\frac{x^2}{2\\sigma^2}}dx &= \\frac{1}{k+1}x^{k+1}\\frac{1}{\\sqrt{2\\pi\\sigma^2}}e^{-\\frac{x^2}{2\\sigma^2}}|^{+\\infty}_{-\\infty} + \\frac{1}{k+1}\\int_{-\\infty}^{+\\infty}\\cfrac{x^{k+2}}{\\sqrt{2\\pi\\sigma^2}\\sigma^2}e^{-\\frac{x^2}{2\\sigma^2}}dx \\\\\n",
    "&= \\frac{1}{k+1}\\int_{-\\infty}^{+\\infty}\\cfrac{x^{k+2}}{\\sqrt{2\\pi\\sigma^2}\\sigma^2}e^{-\\frac{x^2}{2\\sigma^2}}dx = \\frac{1}{k+1}\\mathbb{E}[X^{k+2}]\\times \\frac{1}{\\sigma^2} \\\\\n",
    "\\end{align*}\n",
    "\n",
    "$$\\Rightarrow \\mathbb{E}[X^k] = \\sigma^2 (k-1)\\mathbb{E}[X^{k-2}] \\Rightarrow \\mathbb{E}[X^k] = \\sigma^k (k-1)!!  $$\n",
    "\n",
    "\n",
    "Therefore, by Ito isometry, we have\n",
    "\n",
    "\\begin{align*}\n",
    "Var(\\int_0^t B(s)^n dB(s)) &= \\mathbb{E}[(\\int_0^t B(s)^n dB(s))^2] - (\\mathbb{E}[\\int_0^t B(s)^n dB(s)])^2 \\\\\n",
    "&= \\mathbb{E}[(\\int_0^t B(s)^n dB(s))^2] \\\\\n",
    "&= \\int_o^t \\mathbb{E}[B(s)^{2n}] ds \\\\\n",
    "&= \\int_0^t (2n-1)!! \\times s^n ds \\\\ \n",
    "&= \\frac{(2n-1)!!}{n+1} t^{n+1}  \\\\\n",
    "\n",
    "\\end{align*}"
   ]
  }
 ],
 "metadata": {
  "language_info": {
   "name": "python"
  },
  "orig_nbformat": 4
 },
 "nbformat": 4,
 "nbformat_minor": 2
}
