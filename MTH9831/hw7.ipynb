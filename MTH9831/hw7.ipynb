{
 "cells": [
  {
   "cell_type": "markdown",
   "metadata": {},
   "source": [
    "### Question 3"
   ]
  },
  {
   "cell_type": "markdown",
   "metadata": {},
   "source": [
    "#### (i)"
   ]
  },
  {
   "cell_type": "markdown",
   "metadata": {},
   "source": [
    "For $0\\leq t \\leq T$, by Lemma 5.5.2,\n",
    "\\begin{align*}\n",
    "E^{(M_2)}\\left[\\frac{M_1(T)}{M_2(T)}  \\mid F_t \\right] &= E \\left[ \\frac{M_2(T) M_1(T)}{M_2(t) M_2(T)} \\mid F_t \\right] = \\frac{E\\left[ M_1(T) \\mid F_t \\right]}{M_2(t)} = \\frac{M_1(t)}{M_2(t)}.\n",
    "\\end{align*}\n",
    "\n"
   ]
  },
  {
   "cell_type": "markdown",
   "metadata": {},
   "source": [
    "#### (ii)"
   ]
  },
  {
   "cell_type": "markdown",
   "metadata": {},
   "source": [
    "Let $M_1(t) = D_t S_t$ and $M_2(t) = D_t N_t / N_0$. Then $\\tilde{P}^{(N)}$ as defined is $P^{(M_2)}$ as defined in Remark 9.2.5. Hence $\\frac{M_1(t)}{M_2(t)} = \\frac{S_t}{N_t}N_0$ is a martingale under $\\tilde{P}^{(N)}$, which implies $S^{(N)} = \\frac{S_t}{N_t}$ is a martingale under $\\tilde{P}^{(N)}$."
   ]
  },
  {
   "cell_type": "markdown",
   "metadata": {},
   "source": [
    "### Question 4"
   ]
  },
  {
   "cell_type": "markdown",
   "metadata": {},
   "source": [
    "#### (i)"
   ]
  },
  {
   "cell_type": "markdown",
   "metadata": {},
   "source": [
    "Since $N_t^{-1} = N_0^{-1} e^{-v \\tilde{W}_t - (r - \\frac{1}{2} v^2) t}$, we have \n",
    "\n",
    "\\begin{align*}\n",
    "d(N_t^{-1}) &= N_0^{-1} e^{-v \\tilde{W}_t - (r - \\frac{1}{2} v^2) t} [-v d\\tilde{W}_t - (r - \\frac{1}{2} v^2) dt + \\frac{1}{2} v^2 dt] \\\\\n",
    "&= N_t^{-1} (-v d\\hat{W}_t - r dt).\n",
    "\\end{align*}"
   ]
  },
  {
   "cell_type": "markdown",
   "metadata": {},
   "source": [
    "#### (ii)"
   ]
  },
  {
   "cell_type": "markdown",
   "metadata": {},
   "source": [
    "\\begin{align*}\n",
    "d\\hat{M}_t &= M_t d \\left( \\frac{1}{N_t} \\right) + \\frac{1}{N_t} dM_t + d \\left( \\frac{1}{N_t} \\right) dM_t \\\\\n",
    "&= \\hat{M}_t (-v d\\hat{W}_t - r dt) + r \\hat{M}_t dt = -v \\hat{M}_t d\\hat{W}_t.\n",
    "\\end{align*}"
   ]
  },
  {
   "cell_type": "markdown",
   "metadata": {},
   "source": [
    "#### (iii)"
   ]
  },
  {
   "cell_type": "markdown",
   "metadata": {},
   "source": [
    "\\begin{align*}\n",
    "d\\hat{X_t} &= d\\left(\\cfrac{X_t}{N_t}\\right) \\\\\n",
    "&= X_t d\\left(\\cfrac{1}{N_t}\\right) + \\cfrac{1}{N_t} dX_t + d\\left(\\cfrac{1}{N_t}\\right) dX_t \\\\\n",
    "&= (\\Delta_t S_t + \\Gamma_t M_t) d\\left(\\frac{1}{N_t}\\right) + \\frac{1}{N_t} (\\Delta_t dS_t + \\Gamma_t dM_t) + d\\left(\\frac{1}{N_t}\\right) (\\Delta_t dS_t + \\Gamma_t dM_t) \\\\\n",
    "&= \\Delta_t \\left[ S_t d\\left(\\frac{1}{N_t}\\right) + \\frac{1}{N_t} dS_t + d\\left(\\frac{1}{N_t}\\right) dS_t \\right] + \\Gamma_t \\left[ M_t d\\left(\\frac{1}{N_t}\\right) + \\frac{1}{N_t} dM_t + d\\left(\\frac{1}{N_t}\\right) dM_t \\right] \\\\\n",
    "&= \\Delta_t d\\hat{S_t} + \\Gamma_t d\\hat{M_t}.\n",
    "\\end{align*}\n"
   ]
  },
  {
   "cell_type": "markdown",
   "metadata": {},
   "source": []
  }
 ],
 "metadata": {
  "language_info": {
   "name": "python"
  }
 },
 "nbformat": 4,
 "nbformat_minor": 2
}
