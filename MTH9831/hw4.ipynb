{
 "cells": [
  {
   "cell_type": "markdown",
   "metadata": {},
   "source": [
    "### Exercise 6\n",
    "\n",
    "First, we verify that $S(t)=Ae^{\\sigma B(t)-\\sigma^2t/2}$. \n",
    "</br>According to Ito's Formula, we have\n",
    "$$\n",
    "\\begin{align*}\n",
    "dS(t)=S_t(t)dt+S_x(t)dB(t)+\\frac{1}{2}S_{xx}(t)dt=-\\frac{\\sigma^2}{2}S(t)dt+\\sigma S(t)dB(t)+\\frac{1}{2}\\sigma^2S(t)dt=\\sigma S(t)dB(t)\\\\\n",
    "\\end{align*}\n",
    "$$\n",
    "and we have $S(0)=A$. so $S(t)=Ae^{\\sigma B(t)-\\sigma^2t/2}$ solves the quation.\n",
    "\n",
    "From $dS(t)=\\sigma S(t)dB(t)$, we conclude $S(t)$ is a martingale. so we have\n",
    "$$\n",
    "\\begin{align*}\n",
    "\\mathbb E[S(t)] = \\mathbb E[S(0)] = A\n",
    "\\end{align*}\n",
    "$$\n",
    "Applying Ito's formula to $S^2(t)$ and take expectation, we obtain\n",
    "$$\n",
    "\\begin{align*}\n",
    "dS^2(t)&=2S(t)dS(t)+d[S,S](t)=2\\sigma S^2(t)dB(t)+\\sigma^2B^2(t)dt\\\\\n",
    "S^2(t)&=S^2(0)+\\int_0^t2\\sigma S^2(r)dB(r)+\\int_0^t\\sigma^2B^2(r)dr\\\\\n",
    "\\mathbb E(S^2(t))&=\\mathbb E(S^2(0))+\\mathbb E(\\int_0^t2\\sigma S^2(r)dB(r)) +\\mathbb E(\\int_0^t\\sigma^2B^2(r)dr)\\\\\n",
    "&=A^2+\\sigma^2\\int_0^t\\mathbb E(B^2(r))dr\\\\\n",
    "&=A^2+\\sigma^2\\int_0^t\\mathbb rdr=A^2+\\frac{1}{2}\\sigma^2t^2\n",
    "\\end{align*}\n",
    "$$\n",
    "therefore we obtain\n",
    "$$\n",
    "\\begin{align*}\n",
    "Var(S(t))=\\mathbb E(S^2(t))-(\\mathbb ES(t))^2=\\frac{1}{2}\\sigma^2t^2\n",
    "\\end{align*}\n",
    "$$"
   ]
  },
  {
   "cell_type": "markdown",
   "metadata": {},
   "source": [
    "### Exercise 7\n",
    "\n",
    "based on using integration by parts, we have\n",
    "$$\n",
    "\\begin{align*}\n",
    "\\int_0^tS(u)du&=tS(t)-\\int_0^tudS(u)=tS(t)-\\int_0^tu\\sigma S(u)dB(u)=\\int_0^t(t-u\\sigma S(u))dB(u)\n",
    "\\end{align*}\n",
    "$$\n",
    "\n",
    "therefore we obtain\n",
    "\n",
    "$$\n",
    "\\begin{align*}\n",
    "\\mathbb E\\int_0^tS(u)du&=\\mathbb E\\int_0^t(t-u\\sigma S(u))dB(u)=0\\\\\n",
    "Var[\\int_0^tS(u)du]&=\\mathbb E\\int_0^t(t-u\\sigma S(u))^2du\\\\\n",
    "&=\\int_0^t(t^2-2u\\sigma t\\mathbb E(S(u))+u^2\\sigma^2\\mathbb E(S^2(u)))du\\\\\n",
    "&=\\int_0^tt^2du-2\\sigma t\\int_0^tAudu+\\sigma^2\\int_0^tu^3du\\\\\n",
    "&=(1-A\\sigma) t^3+\\frac{1}{4}\\sigma^2t^4\n",
    "\\end{align*}\n",
    "$$"
   ]
  },
  {
   "cell_type": "markdown",
   "metadata": {},
   "source": [
    "### Exercise 11"
   ]
  },
  {
   "cell_type": "markdown",
   "metadata": {},
   "source": [
    "Let $f(t,r(t)) = e^{\\beta t} r(t) $, since $f_t=\\beta e^{\\beta t} $, $f_r = e^{\\beta t}$, and $f_{rr}=0$ applying Ito's lemma, we have\n",
    "\n",
    "\\begin{align*}\n",
    "df(t,B(t)) &= \\frac{\\partial f}{\\partial t} dt + \\frac{\\partial f}{\\partial r} dr + \\frac{1}{2} \\frac{\\partial^2 f}{\\partial r^2} drdr \\\\\n",
    "d(e^{\\beta t} r(t)) &= \\beta e^{\\beta t}  r(t) dt + e^{\\beta t}  dr + 0 \\\\\n",
    "d(e^{\\beta t} dr(t))  &= \\beta e^{\\beta t}  r(t) dt + e^{\\beta t}  (\\alpha dt - \\beta r(t)dt + \\sigma d B(t)) \\\\\n",
    "d(e^{\\beta t} dr(t))  &= e^{\\beta t}  (\\alpha dt + \\sigma d B(t)) \\\\\n",
    "e^{\\beta t}r(t) &= r(0) + \\int_0^t e^{\\beta s} (\\alpha ds + \\sigma d B(s)) \\\\\n",
    "r(t) &= e^{-\\beta t} r(0) + \\alpha \\int_0^t e^{-\\beta (t-s)} ds + \\sigma \\int_0^t e^{-\\beta (t-s)} d B(s) \\\\\n",
    "&= e^{-\\beta t} r(0) + \\frac{\\alpha}{\\beta} (1-e^{-\\beta t}) + \\sigma \\int_0^t e^{-\\beta (t-s)} d B(s) \\\\\n",
    "\\end{align*}\n",
    "\n",
    "\n",
    "Hence, $r(t)$ is a Gaussian process,  with mean $e^{-\\beta t} r(0)  + \\cfrac{\\alpha}{\\beta} (1-e^{-\\beta t})$ and by Ito Isometry, variance $\\int_{0}^te^{2\\beta(s-t)ds} = \\frac{\\sigma^2}{2\\beta} (1-e^{-2\\beta t})$, namely, \n",
    "$$r(t) \\sim \\mathcal{N}(e^{-\\beta t} r(0)  + \\cfrac{\\alpha}{\\beta} (1-e^{-\\beta t}), \\frac{\\sigma^2}{2\\beta} (1-e^{-2\\beta t}))$$"
   ]
  },
  {
   "cell_type": "markdown",
   "metadata": {},
   "source": [
    "### Exercise 12"
   ]
  },
  {
   "cell_type": "markdown",
   "metadata": {},
   "source": [
    "(a) From question 11, we adopt exactly the same approach and can get:\n",
    "\n",
    "\\begin{align*}\n",
    "dr(t) &= (\\alpha-\\beta r(t))dt + \\sigma \\sqrt{r(t)} d B(t) \\\\\n",
    "r(t) &= e^{-\\beta t} r(0) + \\frac{\\alpha}{\\beta} (1-e^{-\\beta t}) + \\sigma \\int_0^t e^{-\\beta (t-s)} \\sqrt{r(s)} d B(s) \\\\\n",
    "\\end{align*}\n",
    "Therefore the mean is given by\n",
    "$$\n",
    "E[r_t] = e^{-\\beta t} r_0 + \\frac{\\alpha}{\\beta} (1-e^{-\\beta t})\n",
    "$$\n",
    "Then by Ito isometry, we have the variance\n",
    "$$\n",
    "Var(r_t) = \\sigma^2 E[\\int_0^t e^{-2\\beta (t-s)} r(s) ds] = \\sigma^2 \\int_0^t e^{-2\\beta (t-s)} E[r(s)] ds \\\\\n",
    "$$\n",
    "\n",
    "(b) Assume that $4\\alpha=\\sigma^2$, let $X(t)=\\sqrt{r(t)}$, then $X(t)$ satisfies the following SDE:\n",
    "\\begin{align*}\n",
    "dX(t) &= \\frac{1}{2\\sqrt{r(t)}}dr(t) - \\frac{1}{8} \\frac{1}{r(t)^{3/2}} dr(t) dr(t) \\\\\n",
    "&= \\frac{1}{2\\sqrt{r(t)}} (\\alpha-\\beta r(t))dt + \\frac{1}{2} \\sigma d B(t) - \\frac{1}{8 r(t)^{3/2}} (\\sigma^2 r(t)) dt \\\\ \n",
    "&= \\frac{1}{2\\sqrt{r(t)}} (\\alpha-\\beta r(t) - \\frac{1}{4} \\sigma^2) dt + \\frac{1}{2} \\sigma d B(t) \\\\\n",
    "&= -\\frac{1}{2}\\beta X(t)dt + \\frac{1}{2} \\sigma d B(t) \\\\\n",
    "\\end{align*}\n",
    "\n",
    "(c) From (b) we know that $X(t)$ is an Ornstein-Uhlenbeck process (because it is of the form $dX(t)=-\\beta X(t)dt+\\sigma dB(t)$). Since each OU process is Gaussian, the square $r(t)$ should be a chi-square distribution with 1 degree of freedom."
   ]
  }
 ],
 "metadata": {
  "language_info": {
   "name": "python"
  },
  "orig_nbformat": 4
 },
 "nbformat": 4,
 "nbformat_minor": 2
}
