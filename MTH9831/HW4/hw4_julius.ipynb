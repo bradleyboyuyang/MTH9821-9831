{
 "cells": [
  {
   "cell_type": "markdown",
   "metadata": {},
   "source": [
    "## Solution for Questino 8"
   ]
  },
  {
   "cell_type": "markdown",
   "metadata": {},
   "source": [
    "Ito's formula:\n",
    "$df(t, B(t)) = (f_{t}(t, B(t)) + \\frac{1}{2} f_{xx}(t, B(t)))dt + f_{x} dB(t)$"
   ]
  },
  {
   "cell_type": "markdown",
   "metadata": {},
   "source": []
  },
  {
   "cell_type": "markdown",
   "metadata": {},
   "source": [
    "a) $B^2(t)$.  \\  we can write $B^2(t)$ as $f(t, B(t)) = B(t)^2$, we can derive $f_{t} = 0 $, $ f_{xx} = 2$ & $ f_{x} = 2B(t)$. \n",
    "Hence we get $ d(B^{2} (t) ) = \\frac{1}{2} 2  dt + 2B(t) dB(t)$."
   ]
  },
  {
   "cell_type": "markdown",
   "metadata": {},
   "source": [
    "(b) t B(t) \\\n",
    "we apply Ito's differential formula to get.\n",
    "$d(tB(T)) = t dB(t) + B(t)dt"
   ]
  },
  {
   "cell_type": "markdown",
   "metadata": {},
   "source": [
    "(c) $f(t, x) = (x + t)e^{ - x - t/2} $"
   ]
  },
  {
   "cell_type": "markdown",
   "metadata": {},
   "source": [
    "We decompose the elements and solve the seperate equations\n",
    "$ f_{t}(t, x) = - \\frac{1}{2}f(t, x) + e^{ - x - t/2} $\n",
    "$ f_{x}(t, x) = - f(t, x) + e^{ - x - t/2} $\n",
    "$ f_{xx}(t, x) = - f(t, x) - e^{ - x - t/2} $\n",
    "\n",
    "We realise before that $ f_{t} + \\frac{1}{2} f_{xx} = 0 $\n",
    "\n",
    "We assemble these equations with Ito's formula to get:\n",
    "d f(t, B(t)) = - f(t, x) + e^{ - x - t/2} $\n",
    "\n"
   ]
  },
  {
   "cell_type": "markdown",
   "metadata": {},
   "source": [
    "(d) $ t^{2} B(t) - 2 \\int_{0}^{t} u B(u) du $"
   ]
  },
  {
   "cell_type": "markdown",
   "metadata": {},
   "source": [
    "$ d t^{2} B(t) - 2 \\int_{0}^{t} u B(u) du $ =$ d (t^2B(t)) - 2 d d(\\int_{0}^{t} u B(u) du) $\n",
    "\n",
    "$2 t B(t) dt + t^{2} dB(t) - 2 tB(t) = t^{2} dB(t) $\n",
    "\n",
    "As the term in front of dt is 0, we realize that this is a martingale."
   ]
  },
  {
   "cell_type": "markdown",
   "metadata": {},
   "source": [
    "(e) log S(t), where $d S(t) = \\nu S(t) dt + \\sigma S(t) dB(t) $\n",
    "\n"
   ]
  },
  {
   "cell_type": "markdown",
   "metadata": {},
   "source": [
    "By the rules of Calculus we get that \n",
    "\n",
    "$d(log(S(t))) = \\frac{d S(t)}{S(t)} - \\frac{1}{2} \\frac{d S(t) dS(t)}{S(t)^{2}} $\n",
    "$ \\nu dt + \\sigma dB(t) - \\frac{1}{2} \\sigma^{2} dt $\n",
    "\n",
    "as the cross terms are getting kicked out and only the $d S(t)^2 $ term survives."
   ]
  },
  {
   "cell_type": "markdown",
   "metadata": {},
   "source": [
    "## Problem 9"
   ]
  },
  {
   "cell_type": "markdown",
   "metadata": {},
   "source": [
    "We want to show that: \n",
    "$E ( t^{2} B(t) - 2 \\int_{0}^{t} u B(u) du  | \\mathcal{F}(s))$ is finite.\n",
    "We know that $E(B(u) | \\mathcal{F}(s)) = B(u) $ if $ u \\leq s $ and $E(B(s) | \\mathcal{F}(s)) = B(s) $ if $ s > u $.\n",
    "The idea for our proof is that we split up the areas in [0, s) and [s,t)"
   ]
  },
  {
   "cell_type": "markdown",
   "metadata": {},
   "source": [
    "We now apply the formulas to get:"
   ]
  },
  {
   "cell_type": "markdown",
   "metadata": {},
   "source": [
    "$E( t^{2} B(t) - 2 \\int_{0}^{t} u B(u) du | \\mathcal{F}(s) ) = $ \n",
    "\n",
    "$ t^{2} B(s) - 2 \\int_{0}^{s} u B(u) du - 2 B(s) \\int_{s}^{t} u du = $\n",
    "\n",
    "$ t^{2} B(s) - (t^{2} - s^{2}) B(s) - 2 \\int_{0}^{s} uB(u) du = $\n",
    "\n",
    "$ s^{2} B(s) - 2 \\int_{0}^{s} uB(u) du$"
   ]
  },
  {
   "cell_type": "markdown",
   "metadata": {},
   "source": [
    "Now we take the expected value of the terms to get:\n",
    "$E | t^{2} B(s) - 2 \\int_{0}^{s} u B(u) du - 2 B(s) \\int_{s}^{t} u du | $\n",
    "$\\leq t^{2} E |B(t)| + 2 \\int_{0} ^{t} u E |B(u)| du  < \\infty$. \n",
    "\n",
    "With this we proved that the process is a martingale."
   ]
  }
 ],
 "metadata": {
  "kernelspec": {
   "display_name": "base",
   "language": "python",
   "name": "python3"
  },
  "language_info": {
   "codemirror_mode": {
    "name": "ipython",
    "version": 3
   },
   "file_extension": ".py",
   "mimetype": "text/x-python",
   "name": "python",
   "nbconvert_exporter": "python",
   "pygments_lexer": "ipython3",
   "version": "3.11.4"
  },
  "orig_nbformat": 4
 },
 "nbformat": 4,
 "nbformat_minor": 2
}
