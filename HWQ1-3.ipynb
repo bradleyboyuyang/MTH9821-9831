{
 "cells": [
  {
   "cell_type": "markdown",
   "metadata": {},
   "source": [
    "Q1:\n",
    "\n",
    "$$\\begin{aligned} B_1 &\\sim N(0,t) \\\\ B_2 &\\sim N(0,t) \\\\ \\sqrt{B_1^2 + B_2^2} &= \\sqrt{t(Z_1^2 + Z_2^2)} =  \\sqrt{tY} \\\\ Y &\\sim \\chi^2(2) \\end{aligned}$$\n",
    "\n",
    "\n",
    "$$\\begin{aligned} P[Y < y] &= 1 - e^{-y/2} \\\\ P[X < x] &= P[\\sqrt{tY} < x] = P[Y < x^2/t]1 - e^{-x^2/2t} \\end{aligned}$$\n",
    "\n",
    "\n",
    "\n"
   ]
  },
  {
   "cell_type": "markdown",
   "metadata": {},
   "source": [
    "#### Q2: \n",
    "$ \\text{Here we use Equivalent definitions of Brownian motion (Definition 2.1)} $\n",
    "\n",
    "$ \\text{Test if B(t) satisfies:} $\n",
    "\n",
    "\n",
    "1. $B(0) = 0.$\n",
    "2. $B(t_1) − B(t_0),...,  B(t_m) − B(t_{m−1})\\text{  are independent} .$\n",
    "3. $B(s + t) − B(t) \\text{ is normal and the variance is linear to s}.$\n",
    "     \n",
    "\n",
    "(a): yes\n",
    "1. $B(0) = 0.$\n",
    "2. $B(t_0) − B(t_1),...,  B(t_{m-1}) − B(t_m)\\text{  are independent} $\n",
    "3. $ B(s + t) − B(t)\\text{ is normal and the variance is linear to s}$\n"
   ]
  },
  {
   "cell_type": "markdown",
   "metadata": {},
   "source": [
    "(b): yes\n",
    "\n",
    "1. $B(0) = 0.$\n",
    "\n",
    "2. $cB(t_1^2/c^2) − cB(t_0^2/c^2),...,  cB(t_m^2/c^2) − cB(t_{m−1}^2/c^2) \\text{  are independent}$\n",
    "\n",
    "3. $ B({(s + t)}^2/c^2) − B({t}^2/c^2)  \\text{  is normal and the variance is linear to s} $\n",
    "\n",
    "\n"
   ]
  },
  {
   "cell_type": "markdown",
   "metadata": {},
   "source": [
    "\n",
    "\n",
    "(c): no\n",
    "\n",
    "$ B(t) = \\sqrt{t}B(1)$,\n",
    "    the increment is  $$\\begin{aligned}   (\\sqrt{t+s}B(1)) - (\\sqrt{t}B(1)) = (\\sqrt{t+s} - \\sqrt{t}) B(1) \\end{aligned}$$\n",
    "\n",
    "\n",
    "the increment's variance is not linear to time increment\n",
    "\n"
   ]
  },
  {
   "cell_type": "markdown",
   "metadata": {},
   "source": [
    "\n",
    "(d): yes\n",
    "\n",
    "$ X(t) = (B(2t) − B(t)) $\n",
    "\n",
    "$X(t + s) = (B(2t + 2s) − B(t + s)) $\n",
    "\n",
    "$X(t + s) - X(t) = B(2t + 2s) − B(t + s)  -  (B(2t) − B(t))  = B(2t + 2s)  - B(2t) − (B(t + s) - B(t))$\n",
    "\n",
    "$\\text{ There are 2 senarios:} $ \n",
    "\n",
    "1. $2t > t + s$:\n",
    "\n",
    "      $Y_1 = B(2t + 2s)  - B(2t)$ and $Y_2 = (B(t + s) - B(t)) \\text{ is independent normal distribution} $ \n",
    "\n",
    "2. $2t <= t + s:$\n",
    " \n",
    "     $Y_1 =  B(2t + 2s) − B(t + s)$  and  $Y_2 =  (B(2t) − B(t))  \\text{ is independent normal distribution} $ \n",
    "\n",
    "     $\\text{ Therefore, }Y_1 + Y_2 \\sim N(0, 3s) $ \n",
    "\n",
    "$\\text{ Independence:} $ \n",
    "\n",
    "1. $X(t + s + d) - X(t + s) = B(2t + 2s + 2d) − B(t + s + d)  -  (B(2t + 2s) − B(t + s)) \\text{ and} $\n",
    "\n",
    "2. $X(t + s) - X(t) = B(2t + 2s) − B(t + s)  -  (B(2t) − B(t)) $\n",
    "\n",
    "$\\text{  are independent}  $\n",
    "\n",
    "\n",
    "\n",
    "\n"
   ]
  },
  {
   "cell_type": "markdown",
   "metadata": {},
   "source": [
    "\n",
    "(e): yes. \n",
    "      \n",
    "\n",
    "1. $B(0) = B(T) - B(T - 0) = 0.$\n",
    "\n",
    "2. $B(T) - B(T - t_1)  − (B(T) - B(T - t_0)) ,...,  B(T) - B(T - t_m)  − (B(T) - B(T - t_{m-1})) , i.e. $\n",
    "\n",
    "   $B(T - t_0) - B(T - t_1) ,..., B(T - t_{m-1}) - B(T - t_m)  \\text{  are independent}$\n",
    "\n",
    "3. $ B(T) - B(T - t - s)  − (B(T) - B(T - t)) =  B(T - t) - B(T - t -s) \\text{  is normal and the variance is linear to s} $"
   ]
  },
  {
   "cell_type": "markdown",
   "metadata": {},
   "source": [
    "Q3:\n",
    "\n",
    "$ \\text{Let }  max_{0<s<t}{B_s} = M_t  ,$\n",
    "\n",
    "\n",
    "$$\\mathbb{P}\\left[M_t \\geq a, B_t \\leq x\\right]=\\mathbb{P}\\left[M_t \\geq a, B_t \\geq 2 a-x\\right]$$\n",
    "\n",
    "$ \\text{Note that }  2 a-x > a,$\n",
    "\n",
    "\n",
    "$$\\begin{aligned} & B_t \\geq 2 a-x \\Rightarrow M_t \\geq a \\end{aligned}$$\n",
    "$$\\begin{aligned} \\quad \\mathbb{P}\\left[M_t \\geq a, B_t \\geq 2 a-x\\right]=\\mathbb{P}\\left[B_t \\geq 2 a-x\\right] & = \\int_{2 a-x}^{\\infty} \\frac{1}{\\sqrt{2 \\pi t}} e^{-\\frac{x^2}{2 t}} d x.\\end{aligned} $$\n",
    "\n"
   ]
  },
  {
   "cell_type": "markdown",
   "metadata": {},
   "source": []
  }
 ],
 "metadata": {
  "kernelspec": {
   "display_name": "base",
   "language": "python",
   "name": "python3"
  },
  "language_info": {
   "codemirror_mode": {
    "name": "ipython",
    "version": 3
   },
   "file_extension": ".py",
   "mimetype": "text/x-python",
   "name": "python",
   "nbconvert_exporter": "python",
   "pygments_lexer": "ipython3",
   "version": "3.9.13"
  },
  "orig_nbformat": 4
 },
 "nbformat": 4,
 "nbformat_minor": 2
}
