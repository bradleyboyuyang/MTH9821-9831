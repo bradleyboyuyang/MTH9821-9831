{
 "cells": [
  {
   "cell_type": "markdown",
   "metadata": {},
   "source": [
    "# Monte Carlo Pricing"
   ]
  },
  {
   "cell_type": "markdown",
   "metadata": {},
   "source": [
    "**线性同余发生器（Linear Congruential Generator，LCG）**\n",
    "\n",
    "线性同余发生器（Linear Congruential Generator，LCG）是一种简单的伪随机数生成算法1。它由以下参数组成：模数（m）、乘数（a）、加数（c）和随机数（X）。LCG算法是一个递推公式，每下一个随机数是当前随机数向左移动log2 a位，加上一个c，最后对m取余，使随机数限制在0~m-1内1。该算法由于构成简单，具有以下优点：计算速度快、易于实现、易于写入硬件。\n",
    "\n",
    "LCG算法的随机性质受到了广泛的研究和讨论。虽然LCG算法可以产生伪随机数，但是它的随机性质并不理想。在实际应用中，通常需要对LCG算法进行改进或者使用其他更为复杂的随机数生成算法。\n",
    "\n",
    "\n",
    "使用LCG生成正态分布的随机变量\n",
    "\n",
    "可以使用Box-Muller变换。Box-Muller变换是一种简单而有效的生成正态分布的方法\n",
    "\n",
    "是一种通过服从均匀分布的随机变量，来构建服从高斯分布的随机变量的一种方法。它的基本思想是将二维正态分布的随机变量表示为极坐标形式，然后利用均匀分布和指数分布的关系，生成半径和角度的随机变量，最后转换为笛卡尔坐标形式。Box-Muller变换有两种形式：基本形式和极坐标形式。\n",
    "基本形式是直接利用逆变换法生成指数分布和均匀分布的随机变量。\n",
    "极坐标形式是利用拒绝采样法生成单位圆内的随机点，然后再转换为指数分布和均匀分布的随机变量。\n"
   ]
  },
  {
   "cell_type": "code",
   "execution_count": 40,
   "metadata": {},
   "outputs": [
    {
     "data": {
      "image/png": "[encoded data removed]",
      "text/plain": [
       "<Figure size 640x480 with 1 Axes>"
      ]
     },
     "metadata": {},
     "output_type": "display_data"
    }
   ],
   "source": [
    "import numpy as np\n",
    "import math\n",
    "from scipy.stats import norm\n",
    "import matplotlib.pyplot as plt\n",
    "import random\n",
    "def linear_congruential_generator(N, seed = 1):\n",
    "    \"\"\"Generates uniform random samples on [0,1].\"\"\"\n",
    "    \n",
    "    ## Parameters for the Linear Congruential Generator.\n",
    "    a = 39373\n",
    "    c = 0\n",
    "    k = 2**31 - 1\n",
    "\n",
    "    samples = np.zeros(N)\n",
    "    xi = seed\n",
    "\n",
    "    for i in range(N):\n",
    "        xi = (a * xi + c) % k\n",
    "        ui = xi / k\n",
    "        samples[i] = ui\n",
    "\n",
    "    return samples, xi\n",
    "\n",
    "# Test Script:\n",
    "N = 10000\n",
    "random_U,seed = linear_congruential_generator(N)\n",
    "np.mean(random_U)\n",
    "fig = plt.hist(random_U, bins=100)"
   ]
  },
  {
   "cell_type": "code",
   "execution_count": 42,
   "metadata": {},
   "outputs": [
    {
     "name": "stdout",
     "output_type": "stream",
     "text": [
      "(-0.12717924614987783, 0.8922086815064756, 1941397141)\n"
     ]
    }
   ],
   "source": [
    "def marsaglia_bray(seed=1):\n",
    "    X = 2  # set an initial value so that the while loop is entered\n",
    "    i = 0\n",
    "    while X > 1:\n",
    "        U, seed = linear_congruential_generator(2, seed)\n",
    "        u1, u2 = U[0],U[1]\n",
    "        u1 = 2 * u1 - 1\n",
    "        u2 = 2 * u2 - 1\n",
    "        X = u1**2 + u2**2\n",
    "        \n",
    "    Y = math.sqrt(-2 * math.log(X) / X)\n",
    "    Z1 = u1 * Y\n",
    "    Z2 = u2 * Y\n",
    "    \n",
    "    return Z1, Z2, seed\n",
    "\n",
    "## Test Script:\n",
    "print(marsaglia_bray(2))"
   ]
  },
  {
   "cell_type": "code",
   "execution_count": 43,
   "metadata": {},
   "outputs": [],
   "source": [
    "def marsaglia_bray_N(N):\n",
    "    ## Generate an empty array for the generated values.\n",
    "    results = np.empty(N, dtype=float)\n",
    "    index = 0\n",
    "    seed = 1\n",
    "    while index < N:\n",
    "        Z1, Z2, seed = marsaglia_bray(seed)\n",
    "        \n",
    "        ## Add the generated values to the results array.\n",
    "        results[index] = Z1\n",
    "        index += 1\n",
    "        \n",
    "        ## If there's still space, add the second generated value.\n",
    "        if index < N:\n",
    "            results[index] = Z2\n",
    "            index += 1\n",
    "\n",
    "    return results\n",
    "\n",
    "## Test Script:\n",
    "# N = 100_000\n",
    "# plt.hist(marsaglia_bray_N(N), bins=20)"
   ]
  },
  {
   "cell_type": "code",
   "execution_count": 46,
   "metadata": {},
   "outputs": [
    {
     "data": {
      "text/plain": [
       "-0.00626546122503029"
      ]
     },
     "execution_count": 46,
     "metadata": {},
     "output_type": "execute_result"
    },
    {
     "data": {
      "image/png": "[encoded data removed]",
      "text/plain": [
       "<Figure size 640x480 with 1 Axes>"
      ]
     },
     "metadata": {},
     "output_type": "display_data"
    }
   ],
   "source": [
    "# Test Script:\n",
    "N = 10000\n",
    "random_N = marsaglia_bray_N(N)\n",
    "fig = plt.hist(random_N, bins=1000)\n",
    "np.mean(random_N)"
   ]
  },
  {
   "cell_type": "markdown",
   "metadata": {},
   "source": [
    "## Variance Reduction Techniques for Monte Carlo Pricing of European Options"
   ]
  },
  {
   "cell_type": "code",
   "execution_count": 6,
   "metadata": {},
   "outputs": [],
   "source": [
    "def simulated_spot(S0, T, r, q, sigma, zi):\n",
    "    \"\"\"Calculate the simulated spot price S_i at time T.\"\"\"\n",
    "    return S0 * np.exp((r - q - 0.5 * sigma**2) * T + sigma * np.sqrt(T) * zi)\n",
    "\n",
    "def put_payoff(Si, K, T, r):\n",
    "    \"\"\"Calculate the discounted payoff of a European put option at time T.\"\"\"\n",
    "    return np.exp(-r * T) * np.maximum(K - Si, 0)"
   ]
  },
  {
   "cell_type": "code",
   "execution_count": 7,
   "metadata": {},
   "outputs": [],
   "source": [
    "def d1(S, K, T, r, q, sigma):\n",
    "    \"\"\"Calculates d1 (BSM).\"\"\"\n",
    "    return (math.log(S / K) + (r - q + 0.5 * sigma**2) * T) / (sigma * math.sqrt(T))\n",
    "\n",
    "def d2(S, K, T, r, q, sigma, d1_val=None):\n",
    "    \"\"\"Calculates d2 (BSM).\"\"\"\n",
    "    if d1_val is None:\n",
    "        d1_val = d1(S, K, T, r, q, sigma)\n",
    "    return d1_val - sigma * math.sqrt(T)\n",
    "\n",
    "def bs_call(S, K, T, r, q, sigma):\n",
    "    \"\"\"Calculate the value for a European call option (BSM).\"\"\"\n",
    "    d1_val = d1(S, K, T, r, q, sigma)\n",
    "    d2_val = d2(S, K, T, r, q, sigma, d1_val)\n",
    "    return S * math.exp(-q * T) * norm.cdf(d1_val) - K * math.exp(-r * T) * norm.cdf(d2_val)\n",
    "\n",
    "def bs_put(S, K, T, r, q, sigma):\n",
    "    \"\"\"Calculate the value for a European put option (BSM).\"\"\"\n",
    "    d1_val = d1(S, K, T, r, q, sigma)\n",
    "    d2_val = d2(S, K, T, r, q, sigma, d1_val)\n",
    "    return K * math.exp(-r * T) * norm.cdf(- d2_val) - S * math.exp(-q * T) * norm.cdf(- d1_val)"
   ]
  },
  {
   "cell_type": "markdown",
   "metadata": {},
   "source": [
    "### 1. Control Variate Technique"
   ]
  },
  {
   "cell_type": "code",
   "execution_count": 8,
   "metadata": {},
   "outputs": [],
   "source": [
    "def HW2_NUM1_CV(S0, K, T, r, q, sigma, z):\n",
    "    ## Vectorized calculation for all simulated spot prices.\n",
    "    Si_array = simulated_spot(S0, T, r, q, sigma, z)\n",
    "    plt.hist(Si_array, bins=10)\n",
    "    \n",
    "    ## Vectorized calculation for put payoff.\n",
    "    Vi_array = put_payoff(Si_array, K, T, r)\n",
    "    ##plt.hist(Vi_array, bins=10)\n",
    "\n",
    "    ## Aggregation.\n",
    "    S_hat = np.mean(Si_array)\n",
    "    V_hat = np.mean(Vi_array)\n",
    "\n",
    "    ## Control Variate Technique.\n",
    "    b_hat = np.sum((Si_array - S_hat) * (Vi_array - V_hat)) / np.sum((Si_array - S_hat)**2)\n",
    "    Wi_array = Vi_array - b_hat * (Si_array - np.exp(r * T) * S0)\n",
    "    V_cv_hat = np.mean(Wi_array)\n",
    "\n",
    "    ## Output results:\n",
    "    N = len(z)\n",
    "    print(\"Results for N =\", N)\n",
    "    print(\"V_CV_hat(N):\", V_cv_hat)\n",
    "    print(\"V_BS:\", bs_put(S0, K, T, r, q, sigma))\n",
    "    print(\"|V_BS - V_CV_hat(N)|:\", abs(bs_put(S0, K, T, r, q, sigma) - V_cv_hat))\n",
    "    print(\"\\n\")\n",
    "    return N, V_cv_hat, abs(bs_put(S0, K, T, r, q, sigma) - V_cv_hat)"
   ]
  },
  {
   "cell_type": "code",
   "execution_count": 47,
   "metadata": {},
   "outputs": [
    {
     "name": "stdout",
     "output_type": "stream",
     "text": [
      "Results for N = 10000\n",
      "V_CV_hat(N): 3.762976882118533\n",
      "V_BS: 3.801071883826836\n",
      "|V_BS - V_CV_hat(N)|: 0.038095001708303045\n",
      "\n",
      "\n",
      "Results for N = 20000\n",
      "V_CV_hat(N): 3.760174727915477\n",
      "V_BS: 3.801071883826836\n",
      "|V_BS - V_CV_hat(N)|: 0.04089715591135912\n",
      "\n",
      "\n",
      "Results for N = 40000\n",
      "V_CV_hat(N): 3.798584417438943\n",
      "V_BS: 3.801071883826836\n",
      "|V_BS - V_CV_hat(N)|: 0.0024874663878931003\n",
      "\n",
      "\n",
      "Results for N = 80000\n",
      "V_CV_hat(N): 3.805737820114191\n",
      "V_BS: 3.801071883826836\n",
      "|V_BS - V_CV_hat(N)|: 0.004665936287354899\n",
      "\n",
      "\n",
      "Results for N = 160000\n",
      "V_CV_hat(N): 3.811181961648319\n",
      "V_BS: 3.801071883826836\n",
      "|V_BS - V_CV_hat(N)|: 0.010110077821483099\n",
      "\n",
      "\n",
      "Results for N = 320000\n",
      "V_CV_hat(N): 3.805990838805181\n",
      "V_BS: 3.801071883826836\n",
      "|V_BS - V_CV_hat(N)|: 0.004918954978344825\n",
      "\n",
      "\n",
      "Results for N = 640000\n",
      "V_CV_hat(N): 3.804925924377765\n",
      "V_BS: 3.801071883826836\n",
      "|V_BS - V_CV_hat(N)|: 0.003854040550928861\n",
      "\n",
      "\n",
      "Results for N = 1280000\n",
      "V_CV_hat(N): 3.8029039866601155\n",
      "V_BS: 3.801071883826836\n",
      "|V_BS - V_CV_hat(N)|: 0.001832102833279503\n",
      "\n",
      "\n",
      "Results for N = 2560000\n",
      "V_CV_hat(N): 3.801071882788615\n",
      "V_BS: 3.801071883826836\n",
      "|V_BS - V_CV_hat(N)|: 1.0382210646753265e-09\n",
      "\n",
      "\n",
      "Results for N = 5120000\n",
      "V_CV_hat(N): 3.800667107236537\n",
      "V_BS: 3.801071883826836\n",
      "|V_BS - V_CV_hat(N)|: 0.0004047765902992495\n",
      "\n",
      "\n"
     ]
    },
    {
     "data": {
      "image/png": "[encoded data removed]",
      "text/plain": [
       "<Figure size 640x480 with 1 Axes>"
      ]
     },
     "metadata": {},
     "output_type": "display_data"
    }
   ],
   "source": [
    "## Table values for control variate technique.\n",
    "\n",
    "## Given values.\n",
    "S0 = 56\n",
    "K = 54\n",
    "sigma = 0.27\n",
    "q = 0\n",
    "r = 0.02\n",
    "T = 0.75\n",
    "N = 10000 * (2**9)\n",
    "\n",
    "z = marsaglia_bray_N(N)\n",
    "lst = []\n",
    "for k in range(10):\n",
    "    end_index = 10000 * (2**k)\n",
    "    lst.append(HW2_NUM1_CV(S0, K, T, r, q, sigma, z[:end_index]))\n"
   ]
  },
  {
   "cell_type": "code",
   "execution_count": 60,
   "metadata": {},
   "outputs": [
    {
     "data": {
      "text/html": [
       "<div>\n",
       "<style scoped>\n",
       "    .dataframe tbody tr th:only-of-type {\n",
       "        vertical-align: middle;\n",
       "    }\n",
       "\n",
       "    .dataframe tbody tr th {\n",
       "        vertical-align: top;\n",
       "    }\n",
       "\n",
       "    .dataframe thead th {\n",
       "        text-align: right;\n",
       "    }\n",
       "</style>\n",
       "<table border=\"1\" class=\"dataframe\">\n",
       "  <thead>\n",
       "    <tr style=\"text-align: right;\">\n",
       "      <th></th>\n",
       "      <th>0</th>\n",
       "      <th>1</th>\n",
       "      <th>2</th>\n",
       "    </tr>\n",
       "  </thead>\n",
       "  <tbody>\n",
       "    <tr>\n",
       "      <th>0</th>\n",
       "      <td>10000</td>\n",
       "      <td>3.762977</td>\n",
       "      <td>3.809500e-02</td>\n",
       "    </tr>\n",
       "    <tr>\n",
       "      <th>1</th>\n",
       "      <td>20000</td>\n",
       "      <td>3.760175</td>\n",
       "      <td>4.089716e-02</td>\n",
       "    </tr>\n",
       "    <tr>\n",
       "      <th>2</th>\n",
       "      <td>40000</td>\n",
       "      <td>3.798584</td>\n",
       "      <td>2.487466e-03</td>\n",
       "    </tr>\n",
       "    <tr>\n",
       "      <th>3</th>\n",
       "      <td>80000</td>\n",
       "      <td>3.805738</td>\n",
       "      <td>4.665936e-03</td>\n",
       "    </tr>\n",
       "    <tr>\n",
       "      <th>4</th>\n",
       "      <td>160000</td>\n",
       "      <td>3.811182</td>\n",
       "      <td>1.011008e-02</td>\n",
       "    </tr>\n",
       "    <tr>\n",
       "      <th>5</th>\n",
       "      <td>320000</td>\n",
       "      <td>3.805991</td>\n",
       "      <td>4.918955e-03</td>\n",
       "    </tr>\n",
       "    <tr>\n",
       "      <th>6</th>\n",
       "      <td>640000</td>\n",
       "      <td>3.804926</td>\n",
       "      <td>3.854041e-03</td>\n",
       "    </tr>\n",
       "    <tr>\n",
       "      <th>7</th>\n",
       "      <td>1280000</td>\n",
       "      <td>3.802904</td>\n",
       "      <td>1.832103e-03</td>\n",
       "    </tr>\n",
       "    <tr>\n",
       "      <th>8</th>\n",
       "      <td>2560000</td>\n",
       "      <td>3.801072</td>\n",
       "      <td>1.038221e-09</td>\n",
       "    </tr>\n",
       "    <tr>\n",
       "      <th>9</th>\n",
       "      <td>5120000</td>\n",
       "      <td>3.800667</td>\n",
       "      <td>4.047766e-04</td>\n",
       "    </tr>\n",
       "  </tbody>\n",
       "</table>\n",
       "</div>"
      ],
      "text/plain": [
       "         0         1             2\n",
       "0    10000  3.762977  3.809500e-02\n",
       "1    20000  3.760175  4.089716e-02\n",
       "2    40000  3.798584  2.487466e-03\n",
       "3    80000  3.805738  4.665936e-03\n",
       "4   160000  3.811182  1.011008e-02\n",
       "5   320000  3.805991  4.918955e-03\n",
       "6   640000  3.804926  3.854041e-03\n",
       "7  1280000  3.802904  1.832103e-03\n",
       "8  2560000  3.801072  1.038221e-09\n",
       "9  5120000  3.800667  4.047766e-04"
      ]
     },
     "execution_count": 60,
     "metadata": {},
     "output_type": "execute_result"
    }
   ],
   "source": [
    "import pandas as pd\n",
    "\n",
    "# put 6 decimals everywhere\n",
    "output = pd.DataFrame(lst)\n",
    "output.round(6)\n",
    "output.to_csv('./q1_1.csv')\n",
    "output"
   ]
  },
  {
   "cell_type": "markdown",
   "metadata": {},
   "source": [
    "### 2. Antithetic Variables"
   ]
  },
  {
   "cell_type": "code",
   "execution_count": 63,
   "metadata": {},
   "outputs": [
    {
     "data": {
      "text/plain": [
       "[(10000, 3.765569398350365, 0.03550248547647117),\n",
       " (20000, 3.765214430303043, 0.035857453523793215),\n",
       " (40000, 3.7970454621203027, 0.004026421706533334),\n",
       " (80000, 3.8034121552159017, 0.0023402713890656734),\n",
       " (160000, 3.80809285928284, 0.007020975456003775),\n",
       " (320000, 3.8051454410796612, 0.004073557252825211),\n",
       " (640000, 3.804768946913102, 0.0036970630862658282),\n",
       " (1280000, 3.802765668873329, 0.0016937850464930904),\n",
       " (2560000, 3.800853973646405, 0.00021791018043115784),\n",
       " (5120000, 3.800499608915894, 0.0005722749109420278)]"
      ]
     },
     "execution_count": 63,
     "metadata": {},
     "output_type": "execute_result"
    }
   ],
   "source": [
    "def HW2_NUM1_AV(S0, K, T, r, q, sigma, z):\n",
    "    ## Vectorized calculation for all simulated spot prices.\n",
    "    Si1_array = simulated_spot(S0, T, r, q, sigma, z)\n",
    "    Si2_array = simulated_spot(S0, T, r, q, sigma, -z)\n",
    "    \n",
    "    ## Antithetic Variables Technique.\n",
    "    Vi1_array = put_payoff(Si1_array, K, T, r)\n",
    "    Vi2_array = put_payoff(Si2_array, K, T, r)\n",
    "    V_av_hat = (np.mean(Vi1_array) + np.mean(Vi2_array)) / 2\n",
    "\n",
    "    ## Output results:\n",
    "    N = len(z)\n",
    "    return N, V_av_hat,abs(bs_put(S0, K, T, r, q, sigma) - V_av_hat)\n",
    "\n",
    "ls = []\n",
    "for k in range(10):\n",
    "    end_index = 10000 * (2**k)\n",
    "    ls.append(HW2_NUM1_AV(S0, K, T, r, q, sigma, z[:end_index]))\n",
    "ls"
   ]
  },
  {
   "cell_type": "code",
   "execution_count": 64,
   "metadata": {},
   "outputs": [
    {
     "data": {
      "text/html": [
       "<div>\n",
       "<style scoped>\n",
       "    .dataframe tbody tr th:only-of-type {\n",
       "        vertical-align: middle;\n",
       "    }\n",
       "\n",
       "    .dataframe tbody tr th {\n",
       "        vertical-align: top;\n",
       "    }\n",
       "\n",
       "    .dataframe thead th {\n",
       "        text-align: right;\n",
       "    }\n",
       "</style>\n",
       "<table border=\"1\" class=\"dataframe\">\n",
       "  <thead>\n",
       "    <tr style=\"text-align: right;\">\n",
       "      <th></th>\n",
       "      <th>0</th>\n",
       "      <th>1</th>\n",
       "      <th>2</th>\n",
       "    </tr>\n",
       "  </thead>\n",
       "  <tbody>\n",
       "    <tr>\n",
       "      <th>0</th>\n",
       "      <td>10000</td>\n",
       "      <td>3.765569</td>\n",
       "      <td>0.035502</td>\n",
       "    </tr>\n",
       "    <tr>\n",
       "      <th>1</th>\n",
       "      <td>20000</td>\n",
       "      <td>3.765214</td>\n",
       "      <td>0.035857</td>\n",
       "    </tr>\n",
       "    <tr>\n",
       "      <th>2</th>\n",
       "      <td>40000</td>\n",
       "      <td>3.797045</td>\n",
       "      <td>0.004026</td>\n",
       "    </tr>\n",
       "    <tr>\n",
       "      <th>3</th>\n",
       "      <td>80000</td>\n",
       "      <td>3.803412</td>\n",
       "      <td>0.002340</td>\n",
       "    </tr>\n",
       "    <tr>\n",
       "      <th>4</th>\n",
       "      <td>160000</td>\n",
       "      <td>3.808093</td>\n",
       "      <td>0.007021</td>\n",
       "    </tr>\n",
       "    <tr>\n",
       "      <th>5</th>\n",
       "      <td>320000</td>\n",
       "      <td>3.805145</td>\n",
       "      <td>0.004074</td>\n",
       "    </tr>\n",
       "    <tr>\n",
       "      <th>6</th>\n",
       "      <td>640000</td>\n",
       "      <td>3.804769</td>\n",
       "      <td>0.003697</td>\n",
       "    </tr>\n",
       "    <tr>\n",
       "      <th>7</th>\n",
       "      <td>1280000</td>\n",
       "      <td>3.802766</td>\n",
       "      <td>0.001694</td>\n",
       "    </tr>\n",
       "    <tr>\n",
       "      <th>8</th>\n",
       "      <td>2560000</td>\n",
       "      <td>3.800854</td>\n",
       "      <td>0.000218</td>\n",
       "    </tr>\n",
       "    <tr>\n",
       "      <th>9</th>\n",
       "      <td>5120000</td>\n",
       "      <td>3.800500</td>\n",
       "      <td>0.000572</td>\n",
       "    </tr>\n",
       "  </tbody>\n",
       "</table>\n",
       "</div>"
      ],
      "text/plain": [
       "         0         1         2\n",
       "0    10000  3.765569  0.035502\n",
       "1    20000  3.765214  0.035857\n",
       "2    40000  3.797045  0.004026\n",
       "3    80000  3.803412  0.002340\n",
       "4   160000  3.808093  0.007021\n",
       "5   320000  3.805145  0.004074\n",
       "6   640000  3.804769  0.003697\n",
       "7  1280000  3.802766  0.001694\n",
       "8  2560000  3.800854  0.000218\n",
       "9  5120000  3.800500  0.000572"
      ]
     },
     "execution_count": 64,
     "metadata": {},
     "output_type": "execute_result"
    }
   ],
   "source": [
    "# put 6 decimals everywhere\n",
    "output = pd.DataFrame(ls)\n",
    "output.round(6)\n",
    "output.to_csv('./q1_1.csv')\n",
    "output"
   ]
  },
  {
   "cell_type": "markdown",
   "metadata": {},
   "source": [
    "### 3. Moment Matching"
   ]
  },
  {
   "cell_type": "code",
   "execution_count": 61,
   "metadata": {},
   "outputs": [
    {
     "data": {
      "text/plain": [
       "[(10000, 3.758879248746038, 0.04219263508079818),\n",
       " (20000, 3.7584481485562944, 0.04262373527054164),\n",
       " (40000, 3.797759051858886, 0.0033128319679498475),\n",
       " (80000, 3.805040627815494, 0.0039687439886577636),\n",
       " (160000, 3.8100138105616193, 0.008941926734783223),\n",
       " (320000, 3.806129769131595, 0.0050578853047591465),\n",
       " (640000, 3.8053177682133223, 0.0042458843864863205),\n",
       " (1280000, 3.8030411835162137, 0.001969299689377646),\n",
       " (2560000, 3.8009817806465915, 9.010318024449404e-05),\n",
       " (5120000, 3.800750041218082, 0.00032184260875389725)]"
      ]
     },
     "execution_count": 61,
     "metadata": {},
     "output_type": "execute_result"
    }
   ],
   "source": [
    "def HW2_NUM1_MM(S0, K, T, r, q, sigma, z):\n",
    "    ## Vectorized calculation for all simulated spot prices.\n",
    "    Si_array = simulated_spot(S0, T, r, q, sigma, z)\n",
    "\n",
    "    ## Aggregation.\n",
    "    S_hat = np.mean(Si_array)\n",
    "\n",
    "    ## Moment matching technique.\n",
    "    Si_tilda_array = (np.exp(r*T)*S0/S_hat) * Si_array\n",
    "    Vi_tilda_array = put_payoff(Si_tilda_array, K, T, r)\n",
    "    V_mm_hat = np.mean(Vi_tilda_array)\n",
    "\n",
    "    ## Output results:\n",
    "    N = len(z)\n",
    "\n",
    "    return N, V_mm_hat,abs(bs_put(S0, K, T, r, q, sigma) - V_mm_hat)\n",
    "## Table values for moment matching technique.\n",
    "ls = []\n",
    "for k in range(10):\n",
    "    end_index = 10000 * (2**k)\n",
    "    ls.append(HW2_NUM1_MM(S0, K, T, r, q, sigma, z[:end_index]))\n"
   ]
  },
  {
   "cell_type": "code",
   "execution_count": 62,
   "metadata": {},
   "outputs": [
    {
     "data": {
      "text/html": [
       "<div>\n",
       "<style scoped>\n",
       "    .dataframe tbody tr th:only-of-type {\n",
       "        vertical-align: middle;\n",
       "    }\n",
       "\n",
       "    .dataframe tbody tr th {\n",
       "        vertical-align: top;\n",
       "    }\n",
       "\n",
       "    .dataframe thead th {\n",
       "        text-align: right;\n",
       "    }\n",
       "</style>\n",
       "<table border=\"1\" class=\"dataframe\">\n",
       "  <thead>\n",
       "    <tr style=\"text-align: right;\">\n",
       "      <th></th>\n",
       "      <th>0</th>\n",
       "      <th>1</th>\n",
       "      <th>2</th>\n",
       "    </tr>\n",
       "  </thead>\n",
       "  <tbody>\n",
       "    <tr>\n",
       "      <th>0</th>\n",
       "      <td>10000</td>\n",
       "      <td>3.758879</td>\n",
       "      <td>0.042193</td>\n",
       "    </tr>\n",
       "    <tr>\n",
       "      <th>1</th>\n",
       "      <td>20000</td>\n",
       "      <td>3.758448</td>\n",
       "      <td>0.042624</td>\n",
       "    </tr>\n",
       "    <tr>\n",
       "      <th>2</th>\n",
       "      <td>40000</td>\n",
       "      <td>3.797759</td>\n",
       "      <td>0.003313</td>\n",
       "    </tr>\n",
       "    <tr>\n",
       "      <th>3</th>\n",
       "      <td>80000</td>\n",
       "      <td>3.805041</td>\n",
       "      <td>0.003969</td>\n",
       "    </tr>\n",
       "    <tr>\n",
       "      <th>4</th>\n",
       "      <td>160000</td>\n",
       "      <td>3.810014</td>\n",
       "      <td>0.008942</td>\n",
       "    </tr>\n",
       "    <tr>\n",
       "      <th>5</th>\n",
       "      <td>320000</td>\n",
       "      <td>3.806130</td>\n",
       "      <td>0.005058</td>\n",
       "    </tr>\n",
       "    <tr>\n",
       "      <th>6</th>\n",
       "      <td>640000</td>\n",
       "      <td>3.805318</td>\n",
       "      <td>0.004246</td>\n",
       "    </tr>\n",
       "    <tr>\n",
       "      <th>7</th>\n",
       "      <td>1280000</td>\n",
       "      <td>3.803041</td>\n",
       "      <td>0.001969</td>\n",
       "    </tr>\n",
       "    <tr>\n",
       "      <th>8</th>\n",
       "      <td>2560000</td>\n",
       "      <td>3.800982</td>\n",
       "      <td>0.000090</td>\n",
       "    </tr>\n",
       "    <tr>\n",
       "      <th>9</th>\n",
       "      <td>5120000</td>\n",
       "      <td>3.800750</td>\n",
       "      <td>0.000322</td>\n",
       "    </tr>\n",
       "  </tbody>\n",
       "</table>\n",
       "</div>"
      ],
      "text/plain": [
       "         0         1         2\n",
       "0    10000  3.758879  0.042193\n",
       "1    20000  3.758448  0.042624\n",
       "2    40000  3.797759  0.003313\n",
       "3    80000  3.805041  0.003969\n",
       "4   160000  3.810014  0.008942\n",
       "5   320000  3.806130  0.005058\n",
       "6   640000  3.805318  0.004246\n",
       "7  1280000  3.803041  0.001969\n",
       "8  2560000  3.800982  0.000090\n",
       "9  5120000  3.800750  0.000322"
      ]
     },
     "execution_count": 62,
     "metadata": {},
     "output_type": "execute_result"
    }
   ],
   "source": [
    "# put 6 decimals everywhere\n",
    "output = pd.DataFrame(ls)\n",
    "output.round(6)\n",
    "output.to_csv('./q1_1.csv')\n",
    "output"
   ]
  },
  {
   "cell_type": "markdown",
   "metadata": {},
   "source": [
    "### 4. Simultaneous Moment Matching and Control Variates"
   ]
  },
  {
   "cell_type": "code",
   "execution_count": 65,
   "metadata": {},
   "outputs": [
    {
     "data": {
      "text/plain": [
       "[(10000, 3.7588792487460343, 0.04219263508080173),\n",
       " (20000, 3.758448148556293, 0.04262373527054297),\n",
       " (40000, 3.7977590518588884, 0.003312831967947627),\n",
       " (80000, 3.805040627815492, 0.003968743988655987),\n",
       " (160000, 3.810013810561622, 0.008941926734785888),\n",
       " (320000, 3.806129769131602, 0.005057885304765808),\n",
       " (640000, 3.8053177682133246, 0.004245884386488541),\n",
       " (1280000, 3.8030411835162194, 0.001969299689383419),\n",
       " (2560000, 3.8009817806465938, 9.01031802422736e-05),\n",
       " (5120000, 3.800750041218097, 0.0003218426087392423)]"
      ]
     },
     "execution_count": 65,
     "metadata": {},
     "output_type": "execute_result"
    }
   ],
   "source": [
    "def HW2_NUM1_CVMM(S0, K, T, r, q, sigma, z):\n",
    "    ## Vectorized calculation for all simulated spot prices.\n",
    "    Si_array = simulated_spot(S0, T, r, q, sigma, z)\n",
    "\n",
    "    ## Aggregation.\n",
    "    S_hat = np.mean(Si_array)\n",
    "\n",
    "    ## Moment matching technique.\n",
    "    Si_tilda_array = (np.exp(r*T)*S0/S_hat) * Si_array\n",
    "    Vi_tilda_array = put_payoff(Si_tilda_array, K, T, r)\n",
    "    V_mm_hat = np.mean(Vi_tilda_array)\n",
    "\n",
    "    ## Control Variate Technique.\n",
    "    b_hat = np.sum((Si_tilda_array - np.exp(r*T)*S0) * (Vi_tilda_array - V_mm_hat)) / np.sum((Si_tilda_array - np.exp(r*T)*S0)**2)\n",
    "    Wi_array = Vi_tilda_array - b_hat * (Si_tilda_array - np.exp(r * T) * S0)\n",
    "    V_cvmm_hat = np.mean(Wi_array)\n",
    "    \n",
    "    ## Output results:\n",
    "    N = len(z)\n",
    "    return N, V_cvmm_hat ,abs(bs_put(S0, K, T, r, q, sigma) - V_cvmm_hat)\n",
    "\n",
    "ls = []\n",
    "for k in range(10):\n",
    "    end_index = 10000 * (2**k)\n",
    "    ls.append(HW2_NUM1_CVMM(S0, K, T, r, q, sigma, z[:end_index]))\n",
    "ls\n"
   ]
  },
  {
   "cell_type": "code",
   "execution_count": 66,
   "metadata": {},
   "outputs": [
    {
     "data": {
      "text/html": [
       "<div>\n",
       "<style scoped>\n",
       "    .dataframe tbody tr th:only-of-type {\n",
       "        vertical-align: middle;\n",
       "    }\n",
       "\n",
       "    .dataframe tbody tr th {\n",
       "        vertical-align: top;\n",
       "    }\n",
       "\n",
       "    .dataframe thead th {\n",
       "        text-align: right;\n",
       "    }\n",
       "</style>\n",
       "<table border=\"1\" class=\"dataframe\">\n",
       "  <thead>\n",
       "    <tr style=\"text-align: right;\">\n",
       "      <th></th>\n",
       "      <th>0</th>\n",
       "      <th>1</th>\n",
       "      <th>2</th>\n",
       "    </tr>\n",
       "  </thead>\n",
       "  <tbody>\n",
       "    <tr>\n",
       "      <th>0</th>\n",
       "      <td>10000</td>\n",
       "      <td>3.758879</td>\n",
       "      <td>0.042193</td>\n",
       "    </tr>\n",
       "    <tr>\n",
       "      <th>1</th>\n",
       "      <td>20000</td>\n",
       "      <td>3.758448</td>\n",
       "      <td>0.042624</td>\n",
       "    </tr>\n",
       "    <tr>\n",
       "      <th>2</th>\n",
       "      <td>40000</td>\n",
       "      <td>3.797759</td>\n",
       "      <td>0.003313</td>\n",
       "    </tr>\n",
       "    <tr>\n",
       "      <th>3</th>\n",
       "      <td>80000</td>\n",
       "      <td>3.805041</td>\n",
       "      <td>0.003969</td>\n",
       "    </tr>\n",
       "    <tr>\n",
       "      <th>4</th>\n",
       "      <td>160000</td>\n",
       "      <td>3.810014</td>\n",
       "      <td>0.008942</td>\n",
       "    </tr>\n",
       "    <tr>\n",
       "      <th>5</th>\n",
       "      <td>320000</td>\n",
       "      <td>3.806130</td>\n",
       "      <td>0.005058</td>\n",
       "    </tr>\n",
       "    <tr>\n",
       "      <th>6</th>\n",
       "      <td>640000</td>\n",
       "      <td>3.805318</td>\n",
       "      <td>0.004246</td>\n",
       "    </tr>\n",
       "    <tr>\n",
       "      <th>7</th>\n",
       "      <td>1280000</td>\n",
       "      <td>3.803041</td>\n",
       "      <td>0.001969</td>\n",
       "    </tr>\n",
       "    <tr>\n",
       "      <th>8</th>\n",
       "      <td>2560000</td>\n",
       "      <td>3.800982</td>\n",
       "      <td>0.000090</td>\n",
       "    </tr>\n",
       "    <tr>\n",
       "      <th>9</th>\n",
       "      <td>5120000</td>\n",
       "      <td>3.800750</td>\n",
       "      <td>0.000322</td>\n",
       "    </tr>\n",
       "  </tbody>\n",
       "</table>\n",
       "</div>"
      ],
      "text/plain": [
       "         0         1         2\n",
       "0    10000  3.758879  0.042193\n",
       "1    20000  3.758448  0.042624\n",
       "2    40000  3.797759  0.003313\n",
       "3    80000  3.805041  0.003969\n",
       "4   160000  3.810014  0.008942\n",
       "5   320000  3.806130  0.005058\n",
       "6   640000  3.805318  0.004246\n",
       "7  1280000  3.803041  0.001969\n",
       "8  2560000  3.800982  0.000090\n",
       "9  5120000  3.800750  0.000322"
      ]
     },
     "execution_count": 66,
     "metadata": {},
     "output_type": "execute_result"
    }
   ],
   "source": [
    "# put 6 decimals everywhere\n",
    "output = pd.DataFrame(ls)\n",
    "output.round(6)\n",
    "output.to_csv('./q1_1.csv')\n",
    "output"
   ]
  },
  {
   "cell_type": "markdown",
   "metadata": {},
   "source": [
    "## Monte Carlo Pricing for Basket Options\n"
   ]
  },
  {
   "cell_type": "markdown",
   "metadata": {},
   "source": [
    "We want to price European basket options on two underlying assets following a lognormal model with known correlation using Monte Carlo simulation.\n",
    "\n",
    "Since the payoff of the option depends only on the price of the underlying assets at maturity, we do not need to generate entire paths for the evolution of the underlying assets, just their prices at maturity\n",
    "\n",
    "max(S1(T) + S2(T) − K, 0)."
   ]
  },
  {
   "cell_type": "markdown",
   "metadata": {},
   "source": [
    "Generate 2N independent samples z1, z2, . . . , z2N from the standard normal distribution using the linear congruential generator and the Box–Muller Method."
   ]
  },
  {
   "cell_type": "markdown",
   "metadata": {},
   "source": [
    "![Alt text](image-3.png)"
   ]
  },
  {
   "cell_type": "markdown",
   "metadata": {},
   "source": []
  }
 ],
 "metadata": {
  "kernelspec": {
   "display_name": "base",
   "language": "python",
   "name": "python3"
  },
  "language_info": {
   "codemirror_mode": {
    "name": "ipython",
    "version": 3
   },
   "file_extension": ".py",
   "mimetype": "text/x-python",
   "name": "python",
   "nbconvert_exporter": "python",
   "pygments_lexer": "ipython3",
   "version": "3.9.13"
  },
  "orig_nbformat": 4
 },
 "nbformat": 4,
 "nbformat_minor": 2
}
