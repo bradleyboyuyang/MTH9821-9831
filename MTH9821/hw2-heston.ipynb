{
 "cells": [
  {
   "cell_type": "code",
   "execution_count": 5,
   "metadata": {},
   "outputs": [],
   "source": [
    "\"\"\"\n",
    "Consider an asset with spot price $50 and spot volatility 30% (i.e., with intital variance V0 = 0.09),\n",
    "and assume that the price of the asset follows a Heston Model with three month reversion time scale to\n",
    "a long–term standard deviation mean of 35% and with 25% standard deviation of the variance, i.e.,\n",
    "λ = 4; sqrt(V) = 0.25, η = 0.25.\n",
    "Assume a correlation rho = -0.15 between the Wiener processes.\n",
    "Consider a six months at–the–money put on this option. Let T = 0.5 and K = 50. Assume the\n",
    "risk-free rate is constant r = 0.05.\n",
    "Simulate n random paths for the evolution of the price of the asset as above, each one discretized by m\n",
    "time steps corresponding to δt = T/m. Generate N = 2nm independent samples of the standard normal\n",
    "distribution using the linear congruential generator and the Box–Muller method as before.\n",
    "Use a small time interval when discretizing the path, i.e., half a day, in order to capture the mean\n",
    "reversion of the volatility. This corresponds approximately to m = 175. Use n = 500 · 2^k paths, where\n",
    "k = 0 : 5, i.e., N = 2 · 87500 · 2^5\n",
    "Let Vk be the value of the option corresponding to the asset evolving along the path k, for k = 1 : n,\n",
    "and let \\hat{V}(n) = \\sum_{i=1}^n V_i/n\n",
    "For each value of Vb(n) also compute the corresponding Black–Scholes implied volatility\n",
    "\"\"\"\n",
    "\n",
    "import numpy as np\n",
    "import pandas as pd\n",
    "\n",
    "# parameters\n",
    "S0 = 50\n",
    "V0 = 0.09\n",
    "r = 0.05\n",
    "T = 0.5\n",
    "K = 50\n",
    "sigma = 0.3\n",
    "lamb = 4\n",
    "eta = 0.25\n",
    "rho = -0.15\n",
    "m = 175\n",
    "n = 500 * 2**5\n",
    "N = 2 * 87500 * 2**5\n",
    "\n",
    "# generate random numbers\n",
    "np.random.seed(0)\n",
    "u1 = np.random.rand(N)\n",
    "u2 = np.random.rand(N)\n",
    "z1 = np.sqrt(-2 * np.log(u1)) * np.cos(2 * np.pi * u2)\n",
    "z2 = np.sqrt(-2 * np.log(u1)) * np.sin(2 * np.pi * u2)\n",
    "z1 = z1.reshape((n, m, 2))\n",
    "z2 = z2.reshape((n, m, 2))\n",
    "\n",
    "\n"
   ]
  },
  {
   "cell_type": "code",
   "execution_count": null,
   "metadata": {},
   "outputs": [],
   "source": []
  }
 ],
 "metadata": {
  "kernelspec": {
   "display_name": "base",
   "language": "python",
   "name": "python3"
  },
  "language_info": {
   "codemirror_mode": {
    "name": "ipython",
    "version": 3
   },
   "file_extension": ".py",
   "mimetype": "text/x-python",
   "name": "python",
   "nbconvert_exporter": "python",
   "pygments_lexer": "ipython3",
   "version": "3.9.7"
  },
  "orig_nbformat": 4
 },
 "nbformat": 4,
 "nbformat_minor": 2
}
