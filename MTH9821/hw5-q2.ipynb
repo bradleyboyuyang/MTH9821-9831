{
 "cells": [
  {
   "cell_type": "markdown",
   "metadata": {},
   "source": [
    "### Question 2"
   ]
  },
  {
   "cell_type": "markdown",
   "metadata": {},
   "source": [
    "#### (a)\n",
    "Differentiate both sides w.r.t. $\\alpha$ we have,\n",
    "$$ SC_S + KC_K = C(S, K) $$\n",
    "Differentiate both sides w.r.t $S$ and $K$ respectively, we have\n",
    "$$ C_S + \\alpha SC_{SS} + \\alpha K C_{KS} = C_S $$\n",
    "$$ \\alpha SC_{SK} + C_K + \\alpha K C_{KK} = C_K $$\n",
    "Hence we have\n",
    "$$ \\Gamma = C_{SS} = -\\frac{K}{S}C_{KS} = \\frac{K^2}{S^2} C_{KK} $$"
   ]
  },
  {
   "cell_type": "markdown",
   "metadata": {},
   "source": [
    "#### (b)\n",
    "Under the absence of butterfly arbitrage, we know that the option price must be convex in strike K, hence $C_{KK}\\leq 0$, there must be $\\Gamma \\geq 0$."
   ]
  },
  {
   "cell_type": "markdown",
   "metadata": {},
   "source": [
    "#### (c)\n",
    "\n",
    "If an option has negative $\\Gamma$, it implies a convexity arbitrage opportunity.\n",
    "\n",
    "To exploit this:\n",
    "- Since the option has negative Gamma, from the formula that $C_{KK}\\leq 0$, meaning that the option is concave in strike.\n",
    "- We can do a convexity arbitrage: Buy an option with a strike price slightly below the current price, sell two options at the current price, and buy an option with a strike price slightly above the current price. This position gives us non-negative initial cash flow, and the payoff has positive probability that in the future we will have a positive payoff. Hence this constructs a butterfly arbitrage."
   ]
  }
 ],
 "metadata": {
  "language_info": {
   "name": "python"
  }
 },
 "nbformat": 4,
 "nbformat_minor": 2
}
