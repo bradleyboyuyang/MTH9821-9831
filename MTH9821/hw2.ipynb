{
 "cells": [
  {
   "cell_type": "code",
   "execution_count": 9,
   "metadata": {},
   "outputs": [
    {
     "name": "stdout",
     "output_type": "stream",
     "text": [
      "   num_simulation     value\n",
      "0         10000.0  6.563552\n",
      "1         20000.0  6.660088\n",
      "2         40000.0  6.591611\n",
      "3         80000.0  6.645685\n",
      "4        160000.0  6.675133\n",
      "5        320000.0  6.648333\n",
      "6        640000.0  6.658234\n",
      "7       1280000.0  6.664476\n"
     ]
    }
   ],
   "source": [
    "# question 2\n",
    "import numpy as np\n",
    "import pandas as pd\n",
    "\n",
    "# parameters\n",
    "r = 0.025\n",
    "t = 0.5\n",
    "s1_0 = 26\n",
    "s2_0 = 29\n",
    "sigma1 = 0.31\n",
    "sigma2 = 0.21\n",
    "rho = 0.3\n",
    "k = 50\n",
    "\n",
    "def stock_price_formula(norm1: np.array, norm2: np.array) -> np.array:\n",
    "    s1_t = s1_0 * np.exp((r - 0.5 * sigma1 ** 2) * t + sigma1 * norm1 * t ** 0.5)\n",
    "    s2_t = s2_0 * np.exp((r - 0.5 * sigma2 ** 2) * t + sigma2 * (norm1 * rho + norm2 * (1 - rho ** 2) ** 0.5) * t ** 0.5)\n",
    "    return s1_t, s2_t\n",
    "\n",
    "def option_price_simulation(num_simulation: int) -> float:\n",
    "    z1 = np.random.normal(0, 1, num_simulation)\n",
    "    z2 = np.random.normal(0, 1, num_simulation)\n",
    "    stock1, stock2 = stock_price_formula(z1, z2)\n",
    "    option_price = np.exp(- r * t) * (stock1 + stock2 - k)\n",
    "    option_price[option_price < 0] = 0\n",
    "    return np.mean(option_price)\n",
    "\n",
    "result_df = pd.DataFrame(columns = [\"num_simulation\", \"value\"])\n",
    "for i in range(8):\n",
    "    tmp_num = 10000 * 2 ** i\n",
    "    tmp_value = option_price_simulation(tmp_num)\n",
    "    result_df = result_df.append({\"num_simulation\": tmp_num, \"value\": tmp_value}, ignore_index=True)\n",
    "\n",
    "print(result_df)\n",
    "result_df.to_csv(\"./hw2_q2.csv\")"
   ]
  },
  {
   "cell_type": "code",
   "execution_count": null,
   "metadata": {},
   "outputs": [],
   "source": []
  }
 ],
 "metadata": {
  "kernelspec": {
   "display_name": "base",
   "language": "python",
   "name": "python3"
  },
  "language_info": {
   "codemirror_mode": {
    "name": "ipython",
    "version": 3
   },
   "file_extension": ".py",
   "mimetype": "text/x-python",
   "name": "python",
   "nbconvert_exporter": "python",
   "pygments_lexer": "ipython3",
   "version": "3.9.7"
  },
  "orig_nbformat": 4,
  "vscode": {
   "interpreter": {
    "hash": "40d3a090f54c6569ab1632332b64b2c03c39dcf918b08424e98f38b5ae0af88f"
   }
  }
 },
 "nbformat": 4,
 "nbformat_minor": 2
}
