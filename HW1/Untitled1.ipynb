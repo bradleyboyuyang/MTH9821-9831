{
  "nbformat": 4,
  "nbformat_minor": 0,
  "metadata": {
    "colab": {
      "provenance": []
    },
    "kernelspec": {
      "name": "python3",
      "display_name": "Python 3"
    },
    "language_info": {
      "name": "python"
    }
  },
  "cells": [
    {
      "cell_type": "code",
      "execution_count": 41,
      "metadata": {
        "id": "aK4GUXX2cmxm"
      },
      "outputs": [],
      "source": [
        "def Si(r, q, S0, sigma, T, zi):\n",
        "  #return S0*(math.exp(r - q - sigma**2)*T + sigma * math.sqrt(T)* zi )\n",
        "  #print(math.exp((r - q - sigma**2)*T  + sigma * math.sqrt(T)* zi))\n",
        "  #print(math.exp((r - q - sigma**2)*T), math.exp( sigma * math.sqrt(T)* zi), sep=\" \")\n",
        "  return S0* math.exp((r - q - sigma**2)*T  + sigma * math.sqrt(T)* zi)"
      ]
    },
    {
      "cell_type": "code",
      "source": [
        "def Ci(r, q, S0, sigma, T, zi, K):\n",
        "  Sia = Si(r, q, S0, sigma, T, zi)\n",
        "  if Sia > K:\n",
        "    return math.exp(-r*T) * Si(r, q, S0, sigma, T, zi) - K\n",
        "  return 0"
      ],
      "metadata": {
        "id": "IKevliMPg7Z2"
      },
      "execution_count": 95,
      "outputs": []
    },
    {
      "cell_type": "code",
      "source": [
        "def deltaCi(r, q, S0, sigma, T, zi, K):\n",
        "  Sia = Si(r, q, S0, sigma, T, zi)\n",
        "  if Sia > K:\n",
        "    return  (math.exp(-r*T) * max(Sia - K,0))/S0\n",
        "\n",
        "  return 0"
      ],
      "metadata": {
        "id": "y71nzJ0dhtCw"
      },
      "execution_count": 48,
      "outputs": []
    },
    {
      "cell_type": "code",
      "source": [
        "def vegaCi(r, q, S0, sigma, T, zi, K):\n",
        "  Sia = Si(r, q, S0, sigma, T, zi)\n",
        "  if Sia > K:\n",
        "    return Sia* (math.exp(-r*T))  * (-sigma * T + math.sqrt(T) * zi)\n",
        "\n",
        "  return 0"
      ],
      "metadata": {
        "id": "srHPUvDjiTwZ"
      },
      "execution_count": 79,
      "outputs": []
    },
    {
      "cell_type": "code",
      "source": [
        "def Pi(r, q, S0, sigma, T, zi, K):\n",
        "  Sia = Si(r, q, S0, sigma, T, zi)\n",
        "  if Sia > K    :\n",
        "    return math.exp(-r*T) * (Sia -K)\n",
        "  return 0"
      ],
      "metadata": {
        "id": "1q-y96V_qZ1k"
      },
      "execution_count": 68,
      "outputs": []
    },
    {
      "cell_type": "code",
      "source": [
        "def deltaPi(r, q, S0, sigma, T, zi, K):\n",
        "  Sia = Si(r, q, S0, sigma, T, zi)\n",
        "  if K > Sia:\n",
        "    return  -(math.exp(-r*T) * (Sia ))/S0\n",
        "\n",
        "  return 0"
      ],
      "metadata": {
        "id": "TmCCdpuOq1Lm"
      },
      "execution_count": 71,
      "outputs": []
    },
    {
      "cell_type": "code",
      "source": [
        "def vegaPi(r, q, S0, sigma, T, zi, K):\n",
        "  Sia = Si(r, q, S0, sigma, T, zi)\n",
        "  if K > Sia:\n",
        "    return - Sia* (math.exp(-r*T))  * (-sigma * T + math.sqrt(T) * zi)\n",
        "\n",
        "  return 0"
      ],
      "metadata": {
        "id": "v0-fxDGKrZ9u"
      },
      "execution_count": 72,
      "outputs": []
    },
    {
      "cell_type": "code",
      "source": [
        "Ci(r, q, S, sigma, T, zi, K)"
      ],
      "metadata": {
        "colab": {
          "base_uri": "https://localhost:8080/"
        },
        "id": "leUsAfqUhIlo",
        "outputId": "f0b314ea-9497-4683-ba10-ea12c7d7fda7"
      },
      "execution_count": 43,
      "outputs": [
        {
          "output_type": "execute_result",
          "data": {
            "text/plain": [
              "0.19043625767907782"
            ]
          },
          "metadata": {},
          "execution_count": 43
        }
      ]
    },
    {
      "cell_type": "code",
      "source": [
        "Si(r, q, S, sigma, T, zi)"
      ],
      "metadata": {
        "colab": {
          "base_uri": "https://localhost:8080/"
        },
        "id": "cxji9_4ffBBQ",
        "outputId": "fa42a787-fcd4-45da-9ba6-bae76b6b5b58"
      },
      "execution_count": 39,
      "outputs": [
        {
          "output_type": "execute_result",
          "data": {
            "text/plain": [
              "1.0020020013340003"
            ]
          },
          "metadata": {},
          "execution_count": 39
        }
      ]
    },
    {
      "cell_type": "code",
      "source": [
        "deltaCi(r, q, S, sigma, T, zi, K)"
      ],
      "metadata": {
        "colab": {
          "base_uri": "https://localhost:8080/"
        },
        "id": "wFab-C61iCBU",
        "outputId": "ac0eecb2-6989-46c7-a932-9c9f314e2074"
      },
      "execution_count": 56,
      "outputs": [
        {
          "output_type": "execute_result",
          "data": {
            "text/plain": [
              "0.0019043625767907783"
            ]
          },
          "metadata": {},
          "execution_count": 56
        }
      ]
    },
    {
      "cell_type": "code",
      "source": [],
      "metadata": {
        "id": "JDMEddiYiTKH"
      },
      "execution_count": null,
      "outputs": []
    },
    {
      "cell_type": "code",
      "source": [
        "zi =0.06"
      ],
      "metadata": {
        "id": "-pySjDEogQE5"
      },
      "execution_count": 36,
      "outputs": []
    },
    {
      "cell_type": "code",
      "source": [
        "S=100\n",
        "K=100\n",
        "T = 1\n",
        "r = 0.05\n",
        "sigma = 0.2\n",
        "q = 0.02"
      ],
      "metadata": {
        "id": "Y_6q3ns5f98M"
      },
      "execution_count": 22,
      "outputs": []
    },
    {
      "cell_type": "code",
      "source": [
        "S()"
      ],
      "metadata": {
        "id": "5isMAGc9gIzS"
      },
      "execution_count": null,
      "outputs": []
    },
    {
      "cell_type": "code",
      "source": [
        "import math"
      ],
      "metadata": {
        "id": "P3VzHFhgcsfu"
      },
      "execution_count": 14,
      "outputs": []
    },
    {
      "cell_type": "code",
      "source": [
        "# question 1.2\n",
        "import numpy as np\n",
        "from scipy.stats import norm\n",
        "\n",
        "def black_scholes(S, K, T, r, q, sigma, option_type):\n",
        "    d1 = (np.log(S / K) + (r - q + (sigma ** 2) / 2) * T) / (sigma * np.sqrt(T))\n",
        "    d2 = d1 - sigma * np.sqrt(T)\n",
        "\n",
        "    if option_type == 'call':\n",
        "        option_price = S * np.exp(-q * T) * norm.cdf(d1) - K * np.exp(-r * T) * norm.cdf(d2)\n",
        "        delta = np.exp(-q * T) * norm.cdf(d1)\n",
        "    elif option_type == 'put':\n",
        "        option_price = K * np.exp(-r * T) * norm.cdf(-d2) - S * np.exp(-q * T) * norm.cdf(-d1)\n",
        "        delta = -np.exp(-q * T) * norm.cdf(-d1)\n",
        "    else:\n",
        "        raise ValueError(\"Invalid option type. Use 'call' or 'put'.\")\n",
        "\n",
        "    vega = S * np.exp(-q * T) * norm.pdf(d1) * np.sqrt(T)\n",
        "\n",
        "    return option_price, delta, vega"
      ],
      "metadata": {
        "id": "_whewRB5c5GH"
      },
      "execution_count": 97,
      "outputs": []
    },
    {
      "cell_type": "code",
      "source": [
        "black_scholes(S, K, T, r, q, sigma, 'put')"
      ],
      "metadata": {
        "colab": {
          "base_uri": "https://localhost:8080/"
        },
        "id": "GGzA0rCzvw8p",
        "outputId": "1f949e16-d869-41a9-f8d2-54524b663bec"
      },
      "execution_count": 99,
      "outputs": [
        {
          "output_type": "execute_result",
          "data": {
            "text/plain": [
              "(6.330080627549918, -0.3933475271719913, 37.901157510017434)"
            ]
          },
          "metadata": {},
          "execution_count": 99
        }
      ]
    },
    {
      "cell_type": "code",
      "source": [
        "black_scholes(S, K, T, r, q, sigma, 'call')"
      ],
      "metadata": {
        "colab": {
          "base_uri": "https://localhost:8080/"
        },
        "id": "0ef4xtURzfyU",
        "outputId": "b0a5528e-86bb-4f15-c464-1fc2e01f619f"
      },
      "execution_count": 100,
      "outputs": [
        {
          "output_type": "execute_result",
          "data": {
            "text/plain": [
              "(9.227005508154036, 0.586851146134764, 37.901157510017434)"
            ]
          },
          "metadata": {},
          "execution_count": 100
        }
      ]
    },
    {
      "cell_type": "code",
      "source": [
        "# question 1.1\n",
        "# parameters\n",
        "a0 = 2.50662823884\n",
        "b0 = -8.47351093090\n",
        "a1 = -18.61500062529\n",
        "b1 = 23.08336743743\n",
        "a2 = 41.39119773534\n",
        "b2 = -21.06224101826\n",
        "a3 = -25.44106049637\n",
        "b3 = 3.13082909833\n",
        "c0 = 0.3374754822726147\n",
        "c5 = 0.0003951896511919\n",
        "c1 = 0.9761690190917186\n",
        "c6 = 0.0000321767881768\n",
        "c2 = 0.1607979714918209\n",
        "c7 = 0.0000002888167364\n",
        "c3 = 0.0276438810333863\n",
        "c8 = 0.0000003960315187\n",
        "c4 = 0.0038405729373609\n",
        "# Beasley–Springer–Moro algorithm function\n",
        "def bsm(u: float):\n",
        "    \"\"\"\n",
        "    intput: u is between 0 and 1\n",
        "    output: x, approximation to \\phi^-1(u)\n",
        "    \"\"\"\n",
        "    y = u - 0.5\n",
        "    if abs(y) < 0.42:\n",
        "        r = y * y\n",
        "        x = y * (((a3 * r + a2) * r + a1) * r + a0) / ((((b3 * r + b2) * r + b1) * r + b0) * r + 1)\n",
        "    else:\n",
        "        r = u\n",
        "        if y > 0: r = 1 - u\n",
        "        r = math.log(-math.log(r))\n",
        "        x = c0 + r * (c1 + r * (c2 + r * (c3 + r * (c4+ r * (c5 + r * (c6 + r * (c7 + r * c8)))))))\n",
        "        if y < 0:\n",
        "            x = -x\n",
        "    return x"
      ],
      "metadata": {
        "id": "e5PeoJKrethT"
      },
      "execution_count": 53,
      "outputs": []
    },
    {
      "cell_type": "code",
      "source": [
        "import numpy as np\n",
        "import pandas as pd"
      ],
      "metadata": {
        "id": "yd0UOLF0ic9L"
      },
      "execution_count": 83,
      "outputs": []
    },
    {
      "cell_type": "code",
      "source": [
        "results_df = pd.DataFrame(columns=['C(N)', 'sqrt(N)(C_BS - C(N))', 'DeltaC(N)', 'sqrt(N)(deltaC_BS - delta C(N))', 'vega(n)', 'sqrt(N)(vegaC_BS - vega C(N))'])\n"
      ],
      "metadata": {
        "id": "a8GoDNZuukRa"
      },
      "execution_count": 84,
      "outputs": []
    },
    {
      "cell_type": "code",
      "source": [
        "for l in range(1,10):\n",
        "#for l in range(10,11):\n",
        "  N = 10000*(2**l)\n",
        "  #bsm\n",
        "  Ssum =0\n",
        "  Csum = 0\n",
        "  VegaCiSum = 0\n",
        "  Psum = 0\n",
        "  deltacallsum = 0\n",
        "  vegaCisum =0\n",
        "  vegaPisum =0\n",
        "  deltaputsum = 0\n",
        "  vegaPiSum=0\n",
        "  VegaPiSum =0\n",
        "  for i in range(1, N -1):\n",
        "    Ssum += Si(r, q, S, sigma, T, bsm(i/N))\n",
        "    Psum += Pi(r, q, S, sigma, T, bsm(i/N), K)\n",
        "    Csum += Ci(r, q, S, sigma, T, bsm(i/N), K)\n",
        "    VegaCiSum += vegaCi(r, q, S, sigma, T, bsm(i/N), K)\n",
        "    deltacallsum += deltaCi(r, q, S, sigma, T, bsm(i/N),K)\n",
        "    deltaputsum += deltaPi(r, q, S, sigma, T, bsm(i/N), K)\n",
        "    Psum += Pi(r, q, S, sigma, T, bsm(i/N), K)\n",
        "    VegaPiSum += vegaPi(r, q, S, sigma, T, bsm(i/N), K)\n",
        "\n",
        "  print(Ssum/(N-2))\n",
        "  print(Csum/(N-2))\n",
        "  print(VegaCiSum/(N-2))\n",
        "  print(VegaPiSum/(N-2))\n",
        "\n",
        "  print(Psum/(N-2))\n",
        "  print(deltacallsum/(N-2))\n",
        "  print(deltaputsum/(N-2))\n",
        ""
      ],
      "metadata": {
        "colab": {
          "base_uri": "https://localhost:8080/"
        },
        "id": "2s_b0ORAihzm",
        "outputId": "60ee316e-5437-4890-fc1b-a7a731acbdbb"
      },
      "execution_count": null,
      "outputs": [
        {
          "output_type": "stream",
          "name": "stdout",
          "text": [
            "100.99742530625875\n",
            "5.753531390184132\n",
            "37.84391931062984\n",
            "37.90026853941591\n",
            "16.18950627264889\n",
            "0.08094753136324484\n",
            "-0.4231339087989422\n",
            "101.00096607376447\n",
            "5.7572144469426645\n",
            "37.870325261931505\n",
            "37.90078669336901\n",
            "16.19688211735545\n",
            "0.08098441058677772\n",
            "-0.4231297614040864\n",
            "101.00286380609954\n",
            "5.759184930242114\n",
            "37.88465737911935\n",
            "37.90105007409372\n",
            "16.20082794918396\n",
            "0.08100413974592051\n",
            "-0.4231276095720455\n",
            "101.00387636246661\n",
            "5.760203948857014\n",
            "37.8923073189895\n",
            "37.90109405933945\n",
            "16.202929382919056\n",
            "0.08101464691459577\n",
            "-0.4231205516575293\n",
            "101.00441451698985\n",
            "5.760745510710829\n",
            "37.8964231561762\n",
            "37.90111648911476\n",
            "16.20404420428491\n",
            "0.08102022102142398\n",
            "-0.4231170054528671\n",
            "101.00469955895072\n",
            "5.761032294957481\n",
            "37.89862872936156\n",
            "37.901127793279095\n",
            "16.204633621458697\n",
            "0.08102316810729558\n",
            "-0.4231152241934719\n",
            "101.00485008051223\n",
            "5.76118749441616\n",
            "37.89981762613221\n",
            "37.901144580999265\n",
            "16.204944324265124\n",
            "0.08102472162132353\n",
            "-0.42311507284930877\n",
            "101.00492935292242\n",
            "5.761269093503573\n",
            "37.90045013559663\n",
            "37.90115294437848\n",
            "16.205107674383292\n",
            "0.08102553837191885\n",
            "-0.4231149953435537\n"
          ]
        }
      ]
    },
    {
      "cell_type": "code",
      "source": [],
      "metadata": {
        "id": "klZyxefI0yyN"
      },
      "execution_count": null,
      "outputs": []
    },
    {
      "cell_type": "code",
      "source": [
        "#option_price, delta, vega\n",
        "black_scholes(S, K, T, r, q, sigma, 'call')"
      ],
      "metadata": {
        "id": "evLGXH8-wMwa"
      },
      "execution_count": null,
      "outputs": []
    }
  ]
}