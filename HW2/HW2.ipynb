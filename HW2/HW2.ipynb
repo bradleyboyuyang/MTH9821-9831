{
 "cells": [
  {
   "cell_type": "code",
   "execution_count": 34,
   "metadata": {},
   "outputs": [],
   "source": [
    "import numpy as np\n",
    "import math\n",
    "from scipy.stats import norm\n",
    "import matplotlib.pyplot as plt\n",
    "def linear_congruential_generator(N, seed = 1):\n",
    "    \"\"\"Generates uniform random samples on [0,1].\"\"\"\n",
    "    \n",
    "    ## Parameters for the Linear Congruential Generator.\n",
    "    a = 39373\n",
    "    c = 0\n",
    "    k = 2**31 - 1\n",
    "\n",
    "    samples = np.zeros(N)\n",
    "    xi = seed\n",
    "\n",
    "    for i in range(N):\n",
    "        xi = (a * xi + c) % k\n",
    "        ui = xi / k\n",
    "        samples[i] = ui\n",
    "    \n",
    "    return samples\n",
    "\n",
    "## Test Script:\n",
    "# N = 10\n",
    "# print(linear_congruential_generator(N))\n",
    "\n",
    "# box-muller\n",
    "def marsaglia_bray(seed=1):\n",
    "    X = 2  # set an initial value so that the while loop is entered\n",
    "    while X > 1:\n",
    "        u = linear_congruential_generator(2, seed)\n",
    "        u1, u2 = u[0], u[1]\n",
    "        \n",
    "        u1 = 2 * u1 - 1\n",
    "        u2 = 2 * u2 - 1\n",
    "        X = u1**2 + u2**2\n",
    "\n",
    "        seed += 1\n",
    "    \n",
    "    Y = math.sqrt(-2 * math.log(X) / X)\n",
    "    Z1 = u1 * Y\n",
    "    Z2 = u2 * Y\n",
    "    \n",
    "    return Z1, Z2, seed\n",
    "\n",
    "## Test Script:\n",
    "# print(marsaglia_bray())\n",
    "\n",
    "def marsaglia_bray_N(N):\n",
    "\n",
    "    ## Generate an empty array for the generated values.\n",
    "    results = np.empty(N, dtype=float)\n",
    "    index = 0\n",
    "    seed = 1\n",
    "\n",
    "    while index < N:\n",
    "        Z1, Z2, seed = marsaglia_bray(seed)\n",
    "        \n",
    "        ## Add the generated values to the results array.\n",
    "        results[index] = Z1\n",
    "        index += 1\n",
    "        \n",
    "        ## If there's still space, add the second generated value.\n",
    "        if index < N:\n",
    "            results[index] = Z2\n",
    "            index += 1\n",
    "\n",
    "    return results\n",
    "\n",
    "## Test Script:\n",
    "# N = 100_000\n",
    "# plt.hist(marsaglia_bray_N(N), bins=20)"
   ]
  },
  {
   "cell_type": "markdown",
   "metadata": {},
   "source": []
  },
  {
   "cell_type": "markdown",
   "metadata": {},
   "source": [
    "## Variance Reduction Techniques for Monte Carlo Pricing of European Options"
   ]
  },
  {
   "cell_type": "code",
   "execution_count": 35,
   "metadata": {},
   "outputs": [],
   "source": [
    "def simulated_spot(S0, T, r, q, sigma, zi):\n",
    "    \"\"\"Calculate the simulated spot price S_i at time T.\"\"\"\n",
    "    return S0 * np.exp((r - q - 0.5 * sigma**2) * T + sigma * np.sqrt(T) * zi)\n",
    "\n",
    "def put_payoff(Si, K, T, r):\n",
    "    \"\"\"Calculate the discounted payoff of a European put option at time T.\"\"\"\n",
    "    return np.exp(-r * T) * np.maximum(K - Si, 0)"
   ]
  },
  {
   "cell_type": "code",
   "execution_count": 36,
   "metadata": {},
   "outputs": [],
   "source": [
    "def d1(S, K, T, r, q, sigma):\n",
    "    \"\"\"Calculates d1 (BSM).\"\"\"\n",
    "    return (math.log(S / K) + (r - q + 0.5 * sigma**2) * T) / (sigma * math.sqrt(T))\n",
    "\n",
    "def d2(S, K, T, r, q, sigma, d1_val=None):\n",
    "    \"\"\"Calculates d2 (BSM).\"\"\"\n",
    "    if d1_val is None:\n",
    "        d1_val = d1(S, K, T, r, q, sigma)\n",
    "    return d1_val - sigma * math.sqrt(T)\n",
    "\n",
    "def bs_call(S, K, T, r, q, sigma):\n",
    "    \"\"\"Calculate the value for a European call option (BSM).\"\"\"\n",
    "    d1_val = d1(S, K, T, r, q, sigma)\n",
    "    d2_val = d2(S, K, T, r, q, sigma, d1_val)\n",
    "    return S * math.exp(-q * T) * norm.cdf(d1_val) - K * math.exp(-r * T) * norm.cdf(d2_val)\n",
    "\n",
    "def bs_put(S, K, T, r, q, sigma):\n",
    "    \"\"\"Calculate the value for a European put option (BSM).\"\"\"\n",
    "    d1_val = d1(S, K, T, r, q, sigma)\n",
    "    d2_val = d2(S, K, T, r, q, sigma, d1_val)\n",
    "    return K * math.exp(-r * T) * norm.cdf(-d2_val) - S * math.exp(-q * T) * norm.cdf(-d1_val)"
   ]
  },
  {
   "cell_type": "markdown",
   "metadata": {},
   "source": [
    "### Control Variate Technique\n"
   ]
  },
  {
   "cell_type": "code",
   "execution_count": 37,
   "metadata": {},
   "outputs": [],
   "source": [
    "def HW2_NUM1_CV(S0, K, T, r, q, sigma, z):\n",
    "    ## Vectorized calculation for all simulated spot prices.\n",
    "    Si_array = simulated_spot(S0, T, r, q, sigma, z)\n",
    "    ##plt.hist(Si_array, bins=10)\n",
    "    \n",
    "    ## Vectorized calculation for put payoff.\n",
    "    Vi_array = put_payoff(Si_array, K, T, r)\n",
    "    ##plt.hist(Vi_array, bins=10)\n",
    "\n",
    "    ## Aggregation.\n",
    "    S_hat = np.mean(Si_array)\n",
    "    V_hat = np.mean(Vi_array)\n",
    "\n",
    "    ## Control Variate Technique.\n",
    "    b_hat = np.sum((Si_array - S_hat) * (Vi_array - V_hat)) / np.sum((Si_array - S_hat)**2)\n",
    "    Wi_array = Vi_array - b_hat * (Si_array - np.exp(r * T) * S0)\n",
    "    V_cv_hat = np.mean(Wi_array)\n",
    "\n",
    "    ## Output results:\n",
    "    N = len(z)\n",
    "    print(\"Results for N =\", N)\n",
    "    print(\"V_CV_hat(N):\", V_cv_hat)\n",
    "    print(\"V_BS:\", bs_put(S0, K, T, r, q, sigma))\n",
    "    print(\"|V_BS - V_CV_hat(N)|:\", abs(bs_put(S0, K, T, r, q, sigma) - V_cv_hat))\n",
    "    print(\"\\n\")\n",
    "    return N, V_cv_hat,abs(bs_put(S0, K, T, r, q, sigma) - V_cv_hat)"
   ]
  },
  {
   "cell_type": "code",
   "execution_count": 38,
   "metadata": {},
   "outputs": [
    {
     "name": "stdout",
     "output_type": "stream",
     "text": [
      "Results for N = 10000\n",
      "V_CV_hat(N): -0.08829437565900962\n",
      "V_BS: 3.801071883826836\n",
      "|V_BS - V_CV_hat(N)|: 3.8893662594858456\n",
      "\n",
      "\n",
      "Results for N = 20000\n",
      "V_CV_hat(N): 1.11662504911072\n",
      "V_BS: 3.801071883826836\n",
      "|V_BS - V_CV_hat(N)|: 2.684446834716116\n",
      "\n",
      "\n",
      "Results for N = 40000\n",
      "V_CV_hat(N): 3.236087526341488\n",
      "V_BS: 3.801071883826836\n",
      "|V_BS - V_CV_hat(N)|: 0.5649843574853479\n",
      "\n",
      "\n",
      "Results for N = 80000\n",
      "V_CV_hat(N): 4.003252952564317\n",
      "V_BS: 3.801071883826836\n",
      "|V_BS - V_CV_hat(N)|: 0.20218106873748098\n",
      "\n",
      "\n",
      "Results for N = 160000\n",
      "V_CV_hat(N): 3.9601816612608234\n",
      "V_BS: 3.801071883826836\n",
      "|V_BS - V_CV_hat(N)|: 0.15910977743398735\n",
      "\n",
      "\n",
      "Results for N = 320000\n",
      "V_CV_hat(N): 3.8950360541609865\n",
      "V_BS: 3.801071883826836\n",
      "|V_BS - V_CV_hat(N)|: 0.0939641703341505\n",
      "\n",
      "\n",
      "Results for N = 640000\n",
      "V_CV_hat(N): 3.809412150533354\n",
      "V_BS: 3.801071883826836\n",
      "|V_BS - V_CV_hat(N)|: 0.008340266706517774\n",
      "\n",
      "\n",
      "Results for N = 1280000\n",
      "V_CV_hat(N): 3.8126782297052864\n",
      "V_BS: 3.801071883826836\n",
      "|V_BS - V_CV_hat(N)|: 0.01160634587845033\n",
      "\n",
      "\n",
      "Results for N = 2560000\n",
      "V_CV_hat(N): 3.810427198016635\n",
      "V_BS: 3.801071883826836\n",
      "|V_BS - V_CV_hat(N)|: 0.009355314189798847\n",
      "\n",
      "\n",
      "Results for N = 5120000\n",
      "V_CV_hat(N): 3.8069906479970714\n",
      "V_BS: 3.801071883826836\n",
      "|V_BS - V_CV_hat(N)|: 0.005918764170235402\n",
      "\n",
      "\n"
     ]
    }
   ],
   "source": [
    "## Table values for control variate technique.\n",
    "\n",
    "## Given values.\n",
    "S0 = 56\n",
    "K = 54\n",
    "sigma = 0.27\n",
    "q = 0\n",
    "r = 0.02\n",
    "T = 0.75\n",
    "N = 10_000 * (2**9)\n",
    "\n",
    "z = marsaglia_bray_N(N)\n",
    "ls = []\n",
    "for k in range(10):\n",
    "    end_index = 10_000 * (2**k)\n",
    "    ls.append(HW2_NUM1_CV(S0, K, T, r, q, sigma, z[:end_index]))\n"
   ]
  },
  {
   "cell_type": "code",
   "execution_count": 39,
   "metadata": {},
   "outputs": [
    {
     "data": {
      "text/plain": [
       "[(10000, -0.08829437565900962, 3.8893662594858456),\n",
       " (20000, 1.11662504911072, 2.684446834716116),\n",
       " (40000, 3.236087526341488, 0.5649843574853479),\n",
       " (80000, 4.003252952564317, 0.20218106873748098),\n",
       " (160000, 3.9601816612608234, 0.15910977743398735),\n",
       " (320000, 3.8950360541609865, 0.0939641703341505),\n",
       " (640000, 3.809412150533354, 0.008340266706517774),\n",
       " (1280000, 3.8126782297052864, 0.01160634587845033),\n",
       " (2560000, 3.810427198016635, 0.009355314189798847),\n",
       " (5120000, 3.8069906479970714, 0.005918764170235402)]"
      ]
     },
     "execution_count": 39,
     "metadata": {},
     "output_type": "execute_result"
    }
   ],
   "source": [
    "ls"
   ]
  },
  {
   "cell_type": "markdown",
   "metadata": {},
   "source": [
    "### Antithetic Variables"
   ]
  },
  {
   "cell_type": "code",
   "execution_count": 22,
   "metadata": {},
   "outputs": [
    {
     "data": {
      "text/plain": [
       "[(10000, 1.986764384563329, 1.814307499263507),\n",
       " (20000, 2.7898757363983395, 1.0111961474284965),\n",
       " (40000, 3.751961837100339, 0.0491100467264971),\n",
       " (80000, 3.9635384125716886, 0.16246652874485257),\n",
       " (160000, 3.920028218358468, 0.11895633453163201),\n",
       " (320000, 3.8605760974415517, 0.059504213614715695),\n",
       " (640000, 3.7984789694442957, 0.002592914382540279),\n",
       " (1280000, 3.810458439678693, 0.009386555851857104),\n",
       " (2560000, 3.8081508329278924, 0.007078949101056331),\n",
       " (5120000, 3.80493225935861, 0.003860375531774096)]"
      ]
     },
     "execution_count": 22,
     "metadata": {},
     "output_type": "execute_result"
    }
   ],
   "source": [
    "def HW2_NUM1_AV(S0, K, T, r, q, sigma, z):\n",
    "    ## Vectorized calculation for all simulated spot prices.\n",
    "    Si1_array = simulated_spot(S0, T, r, q, sigma, z)\n",
    "    Si2_array = simulated_spot(S0, T, r, q, sigma, -z)\n",
    "    \n",
    "    ## Antithetic Variables Technique.\n",
    "    Vi1_array = put_payoff(Si1_array, K, T, r)\n",
    "    Vi2_array = put_payoff(Si2_array, K, T, r)\n",
    "    V_av_hat = (np.mean(Vi1_array) + np.mean(Vi2_array)) / 2\n",
    "\n",
    "    ## Output results:\n",
    "    N = len(z)\n",
    "    return N, V_av_hat,abs(bs_put(S0, K, T, r, q, sigma) - V_av_hat)\n",
    "\n",
    "ls = []\n",
    "for k in range(10):\n",
    "    end_index = 10_000 * (2**k)\n",
    "    ls.append(HW2_NUM1_AV(S0, K, T, r, q, sigma, z[:end_index]))\n",
    "ls"
   ]
  },
  {
   "cell_type": "markdown",
   "metadata": {},
   "source": [
    "### Moment Matching"
   ]
  },
  {
   "cell_type": "code",
   "execution_count": 41,
   "metadata": {},
   "outputs": [
    {
     "data": {
      "text/plain": [
       "[(10000, 1.1933526453633463, 2.6077192384634897),\n",
       " (20000, 1.8240470097149772, 1.9770248741118588),\n",
       " (40000, 3.0179216460523652, 0.7831502377744708),\n",
       " (80000, 3.993431056009634, 0.19235917218279797),\n",
       " (160000, 3.946883828139249, 0.14581194431241284),\n",
       " (320000, 3.8781502112108006, 0.07707832738396458),\n",
       " (640000, 3.793159187329982, 0.00791269649685411),\n",
       " (1280000, 3.812279758797451, 0.011207874970614817),\n",
       " (2560000, 3.8098569652945793, 0.008785081467743261),\n",
       " (5120000, 3.806208664128379, 0.005136780301543187)]"
      ]
     },
     "execution_count": 41,
     "metadata": {},
     "output_type": "execute_result"
    }
   ],
   "source": [
    "def HW2_NUM1_MM(S0, K, T, r, q, sigma, z):\n",
    "    ## Vectorized calculation for all simulated spot prices.\n",
    "    Si_array = simulated_spot(S0, T, r, q, sigma, z)\n",
    "\n",
    "    ## Aggregation.\n",
    "    S_hat = np.mean(Si_array)\n",
    "\n",
    "    ## Moment matching technique.\n",
    "    Si_tilda_array = (np.exp(r*T)*S0/S_hat) * Si_array\n",
    "    Vi_tilda_array = put_payoff(Si_tilda_array, K, T, r)\n",
    "    V_mm_hat = np.mean(Vi_tilda_array)\n",
    "\n",
    "    ## Output results:\n",
    "    N = len(z)\n",
    "\n",
    "    return N, V_mm_hat,abs(bs_put(S0, K, T, r, q, sigma) - V_mm_hat)\n",
    "## Table values for moment matching technique.\n",
    "ls = []\n",
    "for k in range(10):\n",
    "    end_index = 10_000 * (2**k)\n",
    "    ls.append(HW2_NUM1_MM(S0, K, T, r, q, sigma, z[:end_index]))\n",
    "ls"
   ]
  },
  {
   "cell_type": "markdown",
   "metadata": {},
   "source": [
    "### Simultaneous Moment Matching and Control Variates"
   ]
  },
  {
   "cell_type": "code",
   "execution_count": 40,
   "metadata": {},
   "outputs": [
    {
     "data": {
      "text/plain": [
       "[(10000, 1.1933526453633483, 2.6077192384634875),\n",
       " (20000, 1.8240470097149766, 1.9770248741118595),\n",
       " (40000, 3.017921646052364, 0.7831502377744721),\n",
       " (80000, 3.993431056009634, 0.19235917218279797),\n",
       " (160000, 3.946883828139249, 0.14581194431241284),\n",
       " (320000, 3.8781502112107984, 0.07707832738396236),\n",
       " (640000, 3.7931591873299797, 0.00791269649685633),\n",
       " (1280000, 3.8122797587974455, 0.011207874970609488),\n",
       " (2560000, 3.8098569652945886, 0.008785081467752587),\n",
       " (5120000, 3.8062086641283828, 0.0051367803015467395)]"
      ]
     },
     "execution_count": 40,
     "metadata": {},
     "output_type": "execute_result"
    }
   ],
   "source": [
    "def HW2_NUM1_CVMM(S0, K, T, r, q, sigma, z):\n",
    "    ## Vectorized calculation for all simulated spot prices.\n",
    "    Si_array = simulated_spot(S0, T, r, q, sigma, z)\n",
    "\n",
    "    ## Aggregation.\n",
    "    S_hat = np.mean(Si_array)\n",
    "\n",
    "    ## Moment matching technique.\n",
    "    Si_tilda_array = (np.exp(r*T)*S0/S_hat) * Si_array\n",
    "    Vi_tilda_array = put_payoff(Si_tilda_array, K, T, r)\n",
    "    V_mm_hat = np.mean(Vi_tilda_array)\n",
    "\n",
    "    ## Control Variate Technique.\n",
    "    b_hat = np.sum((Si_tilda_array - np.exp(r*T)*S0) * (Vi_tilda_array - V_mm_hat)) / np.sum((Si_tilda_array - np.exp(r*T)*S0)**2)\n",
    "    Wi_array = Vi_tilda_array - b_hat * (Si_tilda_array - np.exp(r * T) * S0)\n",
    "    V_cvmm_hat = np.mean(Wi_array)\n",
    "    \n",
    "    ## Output results:\n",
    "    N = len(z)\n",
    "    return N, V_cvmm_hat ,abs(bs_put(S0, K, T, r, q, sigma) - V_cvmm_hat)\n",
    "\n",
    "ls = []\n",
    "for k in range(10):\n",
    "    end_index = 10_000 * (2**k)\n",
    "    ls.append(HW2_NUM1_CVMM(S0, K, T, r, q, sigma, z[:end_index]))\n",
    "ls\n"
   ]
  },
  {
   "cell_type": "code",
   "execution_count": null,
   "metadata": {},
   "outputs": [],
   "source": []
  }
 ],
 "metadata": {
  "kernelspec": {
   "display_name": "base",
   "language": "python",
   "name": "python3"
  },
  "language_info": {
   "codemirror_mode": {
    "name": "ipython",
    "version": 3
   },
   "file_extension": ".py",
   "mimetype": "text/x-python",
   "name": "python",
   "nbconvert_exporter": "python",
   "pygments_lexer": "ipython3",
   "version": "3.9.13"
  },
  "orig_nbformat": 4
 },
 "nbformat": 4,
 "nbformat_minor": 2
}
