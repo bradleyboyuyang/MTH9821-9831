{
 "cells": [
  {
   "cell_type": "code",
   "execution_count": 5,
   "metadata": {},
   "outputs": [],
   "source": [
    "import numpy as np\n",
    "import random\n",
    "import math"
   ]
  },
  {
   "cell_type": "code",
   "execution_count": 6,
   "metadata": {},
   "outputs": [],
   "source": [
    "# question 1.1\n",
    "# parameters\n",
    "a0 = 2.50662823884    \n",
    "b0 = -8.47351093090\n",
    "a1 = -18.61500062529\n",
    "b1 = 23.08336743743\n",
    "a2 = 41.39119773534\n",
    "b2 = -21.06224101826\n",
    "a3 = -25.44106049637\n",
    "b3 = 3.13082909833\n",
    "c0 = 0.3374754822726147\n",
    "c5 = 0.0003951896511919\n",
    "c1 = 0.9761690190917186\n",
    "c6 = 0.0000321767881768\n",
    "c2 = 0.1607979714918209\n",
    "c7 = 0.0000002888167364\n",
    "c3 = 0.0276438810333863\n",
    "c8 = 0.0000003960315187\n",
    "c4 = 0.0038405729373609\n",
    "\n",
    "# Beasley–Springer–Moro algorithm function\n",
    "def bsm(u: float):\n",
    "    \"\"\"\n",
    "    intput: u is between 0 and 1\n",
    "    output: x, approximation to \\phi^-1(u)\n",
    "    \"\"\"\n",
    "    y = u - 0.5\n",
    "    if abs(y) < 0.42:\n",
    "        r = y * y\n",
    "        x = y * (((a3 * r + a2) * r + a1) * r + a0) / ((((b3 * r + b2) * r + b1) * r + b0) * r + 1)\n",
    "    else:\n",
    "        r = u\n",
    "        if y > 0: r = 1 - u\n",
    "        r = math.log(-math.log(r))\n",
    "        x = c0 + r * (c1 + r * (c2 + r * (c3 + r * (c4+ r * (c5 + r * (c6 + r * (c7 + r * c8)))))))\n",
    "        if y < 0: \n",
    "            x = -x\n",
    "    return x\n",
    "        "
   ]
  },
  {
   "cell_type": "code",
   "execution_count": 8,
   "metadata": {},
   "outputs": [
    {
     "data": {
      "text/plain": [
       "3.552713678800501e-15"
      ]
     },
     "execution_count": 8,
     "metadata": {},
     "output_type": "execute_result"
    }
   ],
   "source": [
    "# question 1.2\n",
    "import numpy as np\n",
    "from scipy.stats import norm\n",
    "\n",
    "def black_scholes(S, K, T, r, q, sigma, option_type):\n",
    "    d1 = (np.log(S / K) + (r - q + (sigma ** 2) / 2) * T) / (sigma * np.sqrt(T))\n",
    "    d2 = d1 - sigma * np.sqrt(T)\n",
    "\n",
    "    if option_type == 'call':\n",
    "        option_price = S * np.exp(-q * T) * norm.cdf(d1) - K * np.exp(-r * T) * norm.cdf(d2)\n",
    "        delta = np.exp(-q * T) * norm.cdf(d1)\n",
    "    elif option_type == 'put':\n",
    "        option_price = K * np.exp(-r * T) * norm.cdf(-d2) - S * np.exp(-q * T) * norm.cdf(-d1)\n",
    "        delta = -np.exp(-q * T) * norm.cdf(-d1)\n",
    "    else:\n",
    "        raise ValueError(\"Invalid option type. Use 'call' or 'put'.\")\n",
    "\n",
    "    vega = S * np.exp(-q * T) * norm.pdf(d1) * np.sqrt(T)\n",
    "\n",
    "    return option_price, delta, vega"
   ]
  },
  {
   "cell_type": "code",
   "execution_count": null,
   "metadata": {},
   "outputs": [],
   "source": []
  }
 ],
 "metadata": {
  "kernelspec": {
   "display_name": "base",
   "language": "python",
   "name": "python3"
  },
  "language_info": {
   "codemirror_mode": {
    "name": "ipython",
    "version": 3
   },
   "file_extension": ".py",
   "mimetype": "text/x-python",
   "name": "python",
   "nbconvert_exporter": "python",
   "pygments_lexer": "ipython3",
   "version": "3.9.7"
  },
  "orig_nbformat": 4,
  "vscode": {
   "interpreter": {
    "hash": "40d3a090f54c6569ab1632332b64b2c03c39dcf918b08424e98f38b5ae0af88f"
   }
  }
 },
 "nbformat": 4,
 "nbformat_minor": 2
}
