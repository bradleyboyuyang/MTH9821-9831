{
 "cells": [
  {
   "cell_type": "code",
   "execution_count": 6,
   "metadata": {},
   "outputs": [],
   "source": [
    "import numpy as np\n",
    "from scipy.stats import norm\n",
    "\n",
    "K = 39\n",
    "B = 36\n",
    "T = 0.75\n",
    "sigma = 0.25\n",
    "q = 0.01\n",
    "r = 0.02"
   ]
  },
  {
   "cell_type": "code",
   "execution_count": 53,
   "metadata": {},
   "outputs": [],
   "source": [
    "#  \n",
    "def C(S,K):\n",
    "    d1 = (np.log(S/K) + (r + sigma**2/2)*T)/(sigma*np.sqrt(T))\n",
    "    d2 = d1 - sigma*np.sqrt(T)\n",
    "    return S* norm.cdf(d1) - K*np.exp(-r*T)*norm.cdf(d2)\n",
    "\n",
    "def V(S, K):\n",
    "    a = (r-q)/ sigma ** 2 - 0.5\n",
    "    return C(S,K) - (B/S) ** (2*a)* C(B*B/S, K)\n",
    "\n",
    "def V_mc(path, K, B):\n",
    "    if min(path) > B:\n",
    "        return max(0, path[-1] - K) / np.exp(r*T)\n",
    "    else: \n",
    "        return 0"
   ]
  },
  {
   "cell_type": "code",
   "execution_count": 54,
   "metadata": {},
   "outputs": [],
   "source": [
    "def valuing_down_and_out_calls(n = 10000, m = 2 ** 4):\n",
    "    N = n * m\n",
    "    dt = T / m\n",
    "    SS= []\n",
    "    for i in range(n):\n",
    "        S = [39]\n",
    "        for j in range(1, m):\n",
    "            S_j = S[j-1] * np.exp(\n",
    "                (r - 0.5 * sigma * sigma ) * dt + sigma * np.sqrt( dt ) * np.random.randn()\n",
    "            )\n",
    "            S.append(S_j)\n",
    "        SS.append(S)\n",
    "\n",
    "    V_calc = V(SS[0][0],K)\n",
    "    V_est = np.mean([ V_mc(SS[i], K , B) for i in range(n)])\n",
    "    approximation_error = V_est - V_calc\n",
    "    return [V_calc, V_est, approximation_error]"
   ]
  },
  {
   "cell_type": "code",
   "execution_count": 55,
   "metadata": {},
   "outputs": [
    {
     "data": {
      "text/plain": [
       "[2.4119195630464345, 2.8621170466127945, 0.45019748356636]"
      ]
     },
     "execution_count": 55,
     "metadata": {},
     "output_type": "execute_result"
    }
   ],
   "source": [
    "valuing_down_and_out_calls()"
   ]
  },
  {
   "cell_type": "code",
   "execution_count": 56,
   "metadata": {},
   "outputs": [
    {
     "name": "stdout",
     "output_type": "stream",
     "text": [
      "50 200 [2.4119195630464345, 3.4912449809809885, 1.079325417934554]\n",
      "100 200 [2.4119195630464345, 2.8273230019721067, 0.4154034389256722]\n",
      "200 200 [2.4119195630464345, 3.1633540729714293, 0.7514345099249948]\n",
      "400 200 [2.4119195630464345, 2.630045701394154, 0.21812613834771932]\n",
      "800 200 [2.4119195630464345, 2.4828442187294804, 0.07092465568304585]\n",
      "1600 200 [2.4119195630464345, 2.6752812761211104, 0.26336171307467593]\n",
      "3200 200 [2.4119195630464345, 2.51980047579581, 0.10788091274937539]\n",
      "6400 200 [2.4119195630464345, 2.6810304857981238, 0.26911092275168924]\n",
      "12800 200 [2.4119195630464345, 2.5176899791189276, 0.10577041607249305]\n",
      "25600 200 [2.4119195630464345, 2.577710947944299, 0.16579138489786427]\n"
     ]
    }
   ],
   "source": [
    "for k in range(9 + 1):\n",
    "    n = 50 * 2 ** k\n",
    "    m = 200\n",
    "    print(n,m,valuing_down_and_out_calls(n, m))\n",
    "    "
   ]
  },
  {
   "cell_type": "code",
   "execution_count": 57,
   "metadata": {},
   "outputs": [
    {
     "name": "stdout",
     "output_type": "stream",
     "text": [
      "555 18 [2.4119195630464345, 3.0407441446981265, 0.628824581651692]\n",
      "869 23 [2.4119195630464345, 2.824588762532925, 0.4126691994864906]\n",
      "1379 29 [2.4119195630464345, 2.7933294548201872, 0.38140989177375273]\n",
      "2222 36 [2.4119195630464345, 2.6705611923283366, 0.25864162928190204]\n",
      "3555 45 [2.4119195630464345, 2.7013854435500244, 0.2894658805035899]\n",
      "5614 57 [2.4119195630464345, 2.682145785702717, 0.2702262226562824]\n",
      "8888 72 [2.4119195630464345, 2.641625696488064, 0.2297061334416295]\n",
      "14222 90 [2.4119195630464345, 2.721083471421539, 0.3091639083751043]\n",
      "22654 113 [2.4119195630464345, 2.599107214518545, 0.1871876514721107]\n",
      "35804 143 [2.4119195630464345, 2.6119518326809747, 0.20003226963454024]\n"
     ]
    }
   ],
   "source": [
    "for k in range(9 + 1):\n",
    "    Nk = 10000 * 2**k\n",
    "    \n",
    "    mk = int(np.ceil(Nk ** (1/3) * T ** (2/3)))\n",
    "    nk = int(np.floor(Nk / mk))\n",
    "\n",
    "    print(nk,mk,valuing_down_and_out_calls(nk, mk))"
   ]
  },
  {
   "cell_type": "code",
   "execution_count": 43,
   "metadata": {},
   "outputs": [
    {
     "name": "stdout",
     "output_type": "stream",
     "text": [
      "555 18 [2.4119195630464345, 2.8771263034901517, 0.46520674044371724]\n",
      "869 23 [2.4119195630464345, 3.0952917148252332, 0.6833721517787987]\n",
      "1379 29 [2.4119195630464345, 2.803372879345409, 0.3914533162989744]\n",
      "2222 36 [2.4119195630464345, 2.9061041241172036, 0.49418456107076913]\n",
      "3555 45 [2.4119195630464345, 2.684556770289277, 0.27263720724284246]\n",
      "5614 57 [2.4119195630464345, 2.869177038280504, 0.4572574752340697]\n",
      "8888 72 [2.4119195630464345, 2.6755141080420426, 0.2635945449956081]\n",
      "14222 90 [2.4119195630464345, 2.6037564492738663, 0.19183688622743178]\n",
      "22654 113 [2.4119195630464345, 2.6601305461274163, 0.24821098308098177]\n",
      "35804 143 [2.4119195630464345, 2.6754122781727334, 0.2634927151262989]\n"
     ]
    }
   ],
   "source": [
    "for k in range(9 + 1):\n",
    "    Nk = 10000 * 2**k\n",
    "    \n",
    "    mk = int(np.ceil(Nk ** (1/3) * T ** (2/3)))\n",
    "    nk = int(np.floor(Nk / mk))\n",
    "\n",
    "    print(nk,mk,valuing_down_and_out_calls(nk, mk))"
   ]
  },
  {
   "cell_type": "code",
   "execution_count": null,
   "metadata": {},
   "outputs": [],
   "source": []
  }
 ],
 "metadata": {
  "kernelspec": {
   "display_name": "base",
   "language": "python",
   "name": "python3"
  },
  "language_info": {
   "codemirror_mode": {
    "name": "ipython",
    "version": 3
   },
   "file_extension": ".py",
   "mimetype": "text/x-python",
   "name": "python",
   "nbconvert_exporter": "python",
   "pygments_lexer": "ipython3",
   "version": "3.9.13"
  },
  "orig_nbformat": 4
 },
 "nbformat": 4,
 "nbformat_minor": 2
}
