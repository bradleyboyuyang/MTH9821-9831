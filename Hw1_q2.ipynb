{
 "cells": [
  {
   "cell_type": "code",
   "execution_count": 1,
   "metadata": {},
   "outputs": [],
   "source": [
    "import numpy as np\n",
    "from scipy.stats import norm\n",
    "\n",
    "K = 39\n",
    "B = 36\n",
    "T = 0.75\n",
    "sigma = 0.25\n",
    "q = 0.01\n",
    "r = 0.02\n",
    "S0 = 39"
   ]
  },
  {
   "cell_type": "code",
   "execution_count": 2,
   "metadata": {},
   "outputs": [],
   "source": [
    "#  \n",
    "def C(S,K):\n",
    "    d1 = (np.log(S/K) + (r-q + sigma**2/2)*T)/(sigma*np.sqrt(T))\n",
    "    d2 = d1 - sigma*np.sqrt(T)\n",
    "    return S * np.exp(-q*T)* norm.cdf(d1) - K*np.exp(-r*T)*norm.cdf(d2)\n",
    "\n",
    "def V(S, K):\n",
    "    a = (r-q)/ sigma ** 2 - 0.5\n",
    "    return C(S,K) - (B/S) ** (2*a) * C(B*B/S, K)\n",
    "\n",
    "def V_mc(path, K, B):\n",
    "    if min(path) > B:\n",
    "        return max(0, path[-1] - K) * np.exp(-r*T)\n",
    "    else: \n",
    "        return 0"
   ]
  },
  {
   "cell_type": "code",
   "execution_count": 5,
   "metadata": {},
   "outputs": [],
   "source": [
    "def valuing_down_and_out_calls(n = 1, m = 2 ** 9):\n",
    "    N = n * m\n",
    "    dt = T / m\n",
    "    S = np.zeros((n, m))\n",
    "    S[:,0] = S0\n",
    "    for i in range(n):\n",
    "        for j in range(1, m):\n",
    "            Z = norm.ppf(np.random.uniform())\n",
    "            S[i,j] = S[i,j-1] * np.exp(\n",
    "                (r - q - 0.5 * sigma ** 2 ) * dt + sigma * np.sqrt( dt ) * Z\n",
    "            )\n",
    "\n",
    "    V_calc = V(S[0,0],K)\n",
    "    V_est = np.mean([ V_mc(S[i,:], K , B) for i in range(n)])\n",
    "    approximation_error = np.abs(V_est - V_calc)\n",
    "    return [V_calc, V_est, approximation_error]"
   ]
  },
  {
   "cell_type": "code",
   "execution_count": 7,
   "metadata": {},
   "outputs": [
    {
     "name": "stdout",
     "output_type": "stream",
     "text": [
      "10000 200 50 [2.321408636702377, 1.605943714908757, 0.71546492179362]\n",
      "20000 200 100 [2.321408636702377, 2.670485786745106, 0.3490771500427292]\n",
      "40000 200 200 [2.321408636702377, 2.3532199806612883, 0.03181134395891139]\n",
      "80000 200 400 [2.321408636702377, 2.4939044023172716, 0.17249576561489466]\n",
      "160000 200 800 [2.321408636702377, 2.2985051565566366, 0.022903480145740396]\n",
      "320000 200 1600 [2.321408636702377, 2.292031128955557, 0.02937750774681991]\n",
      "640000 200 3200 [2.321408636702377, 2.438165144476263, 0.11675650777388613]\n",
      "1280000 200 6400 [2.321408636702377, 2.4369102347293174, 0.11550159802694049]\n",
      "2560000 200 12800 [2.321408636702377, 2.446115279013118, 0.12470664231074124]\n",
      "5120000 200 25600 [2.321408636702377, 2.455422070757107, 0.13401343405472987]\n"
     ]
    }
   ],
   "source": [
    "for k in range(9 + 1):\n",
    "    n = 50 * 2 ** k\n",
    "    m = 200\n",
    "    print(n*m,m,n,valuing_down_and_out_calls(n, m))\n",
    "    "
   ]
  },
  {
   "cell_type": "code",
   "execution_count": 23,
   "metadata": {},
   "outputs": [
    {
     "name": "stdout",
     "output_type": "stream",
     "text": [
      "10000 18 555 [2.321408636702377, 2.6739940482273536, 0.3525854115249767]\n",
      "20000 23 869 [2.321408636702377, 2.5118261664280466, 0.1904175297256696]\n",
      "40000 29 1379 [2.321408636702377, 2.657520331277599, 0.33611169457522205]\n",
      "80000 36 2222 [2.321408636702377, 2.446558087530151, 0.12514945082777418]\n",
      "160000 45 3555 [2.321408636702377, 2.7066813398436538, 0.3852727031412768]\n",
      "320000 57 5614 [2.321408636702377, 2.5498172595857973, 0.22840862288342034]\n",
      "640000 72 8888 [2.321408636702377, 2.5493958637043126, 0.22798722700193563]\n",
      "1280000 90 14222 [2.321408636702377, 2.574262620048839, 0.25285398334646203]\n",
      "2560000 113 22654 [2.321408636702377, 2.593632857544325, 0.27222422084194786]\n",
      "5120000 143 35804 [2.321408636702377, 2.434799762383682, 0.11339112568130494]\n"
     ]
    }
   ],
   "source": [
    "for k in range(9 + 1):\n",
    "    Nk = 10000 * (2 ** k)\n",
    "    \n",
    "    mk = int(np.ceil(Nk ** (1/3) * T ** (2/3)))\n",
    "    nk = int(np.floor(Nk / mk))\n",
    "\n",
    "    print(Nk,mk,nk,valuing_down_and_out_calls(nk, mk))"
   ]
  },
  {
   "cell_type": "code",
   "execution_count": null,
   "metadata": {},
   "outputs": [],
   "source": []
  }
 ],
 "metadata": {
  "kernelspec": {
   "display_name": "base",
   "language": "python",
   "name": "python3"
  },
  "language_info": {
   "codemirror_mode": {
    "name": "ipython",
    "version": 3
   },
   "file_extension": ".py",
   "mimetype": "text/x-python",
   "name": "python",
   "nbconvert_exporter": "python",
   "pygments_lexer": "ipython3",
   "version": "3.9.13"
  },
  "orig_nbformat": 4
 },
 "nbformat": 4,
 "nbformat_minor": 2
}
